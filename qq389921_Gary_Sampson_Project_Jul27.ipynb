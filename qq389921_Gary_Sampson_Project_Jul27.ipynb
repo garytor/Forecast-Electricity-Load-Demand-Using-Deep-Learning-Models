{
  "nbformat": 4,
  "nbformat_minor": 0,
  "metadata": {
    "colab": {
      "name": "qq389921_Gary Sampson_Project_Jul19.ipynb",
      "provenance": [],
      "collapsed_sections": []
    },
    "kernelspec": {
      "name": "python3",
      "display_name": "Python 3"
    },
    "language_info": {
      "name": "python"
    },
    "accelerator": "GPU"
  },
  "cells": [
    {
      "cell_type": "markdown",
      "metadata": {
        "id": "WSYrtr1Cea7Y"
      },
      "source": [
        "**Project Title:** Forecast the Short Term Electricity Load Demand for Panama Power System"
      ]
    },
    {
      "cell_type": "markdown",
      "metadata": {
        "id": "fccCG34Mg6wX"
      },
      "source": [
        "**Project Objective:** The main objective of this analysis is to forecast the short term electricity demand (MWh) for Panama power system using a Deep Learning Model."
      ]
    },
    {
      "cell_type": "code",
      "metadata": {
        "colab": {
          "base_uri": "https://localhost:8080/"
        },
        "id": "U0Rx1oESeZDu",
        "outputId": "d395b8e7-a42e-4125-a1b0-b6ee0a110b88"
      },
      "source": [
        "#Mount your Google drive\n",
        "from google.colab import drive\n",
        "drive.mount('/content/gdrive')"
      ],
      "execution_count": null,
      "outputs": [
        {
          "output_type": "stream",
          "text": [
            "Drive already mounted at /content/gdrive; to attempt to forcibly remount, call drive.mount(\"/content/gdrive\", force_remount=True).\n"
          ],
          "name": "stdout"
        }
      ]
    },
    {
      "cell_type": "code",
      "metadata": {
        "id": "HbnNq-uWh8Fo"
      },
      "source": [
        "import sys, os\n",
        "import numpy as np\n",
        "import matplotlib.pyplot as plt\n",
        "%matplotlib inline\n",
        "import warnings\n",
        "warnings.simplefilter(action='ignore')\n",
        "os.chdir('/content/gdrive/My Drive/Colab Notebooks/3546 Deep Learning/data')\n",
        "import pandas as pd\n",
        "from datetime import datetime\n",
        "import tensorflow as tf\n",
        "import keras\n",
        "from keras.models import Sequential\n",
        "from keras.layers import Dense, SimpleRNN, LSTM\n",
        "import math\n",
        "from sklearn.preprocessing import StandardScaler\n",
        "from sklearn.metrics import mean_absolute_error\n",
        "\n",
        "np.random.seed(42)\n",
        "tf.random.set_seed(42)"
      ],
      "execution_count": null,
      "outputs": []
    },
    {
      "cell_type": "code",
      "metadata": {
        "colab": {
          "base_uri": "https://localhost:8080/",
          "height": 202
        },
        "id": "LfuR2ryAGegC",
        "outputId": "5523750f-4401-4aaa-acde-e3bce46e465b"
      },
      "source": [
        "# Read the ontinuous dataset file which has 17 features. \n",
        "# The dataset is available at https://www.kaggle.com/ernestojaguilar/shortterm-electricity-load-forecasting-panama,\n",
        "df_continuous = pd.read_csv('continuous dataset.csv')\n",
        "df_continuous.head(5)"
      ],
      "execution_count": null,
      "outputs": [
        {
          "output_type": "execute_result",
          "data": {
            "text/html": [
              "<div>\n",
              "<style scoped>\n",
              "    .dataframe tbody tr th:only-of-type {\n",
              "        vertical-align: middle;\n",
              "    }\n",
              "\n",
              "    .dataframe tbody tr th {\n",
              "        vertical-align: top;\n",
              "    }\n",
              "\n",
              "    .dataframe thead th {\n",
              "        text-align: right;\n",
              "    }\n",
              "</style>\n",
              "<table border=\"1\" class=\"dataframe\">\n",
              "  <thead>\n",
              "    <tr style=\"text-align: right;\">\n",
              "      <th></th>\n",
              "      <th>datetime</th>\n",
              "      <th>nat_demand</th>\n",
              "      <th>T2M_toc</th>\n",
              "      <th>QV2M_toc</th>\n",
              "      <th>TQL_toc</th>\n",
              "      <th>W2M_toc</th>\n",
              "      <th>T2M_san</th>\n",
              "      <th>QV2M_san</th>\n",
              "      <th>TQL_san</th>\n",
              "      <th>W2M_san</th>\n",
              "      <th>T2M_dav</th>\n",
              "      <th>QV2M_dav</th>\n",
              "      <th>TQL_dav</th>\n",
              "      <th>W2M_dav</th>\n",
              "      <th>Holiday_ID</th>\n",
              "      <th>holiday</th>\n",
              "      <th>school</th>\n",
              "    </tr>\n",
              "  </thead>\n",
              "  <tbody>\n",
              "    <tr>\n",
              "      <th>0</th>\n",
              "      <td>2015-01-03 01:00:00</td>\n",
              "      <td>970.3450</td>\n",
              "      <td>25.865259</td>\n",
              "      <td>0.018576</td>\n",
              "      <td>0.016174</td>\n",
              "      <td>21.850546</td>\n",
              "      <td>23.482446</td>\n",
              "      <td>0.017272</td>\n",
              "      <td>0.001855</td>\n",
              "      <td>10.328949</td>\n",
              "      <td>22.662134</td>\n",
              "      <td>0.016562</td>\n",
              "      <td>0.096100</td>\n",
              "      <td>5.364148</td>\n",
              "      <td>0</td>\n",
              "      <td>0</td>\n",
              "      <td>0</td>\n",
              "    </tr>\n",
              "    <tr>\n",
              "      <th>1</th>\n",
              "      <td>2015-01-03 02:00:00</td>\n",
              "      <td>912.1755</td>\n",
              "      <td>25.899255</td>\n",
              "      <td>0.018653</td>\n",
              "      <td>0.016418</td>\n",
              "      <td>22.166944</td>\n",
              "      <td>23.399255</td>\n",
              "      <td>0.017265</td>\n",
              "      <td>0.001327</td>\n",
              "      <td>10.681517</td>\n",
              "      <td>22.578943</td>\n",
              "      <td>0.016509</td>\n",
              "      <td>0.087646</td>\n",
              "      <td>5.572471</td>\n",
              "      <td>0</td>\n",
              "      <td>0</td>\n",
              "      <td>0</td>\n",
              "    </tr>\n",
              "    <tr>\n",
              "      <th>2</th>\n",
              "      <td>2015-01-03 03:00:00</td>\n",
              "      <td>900.2688</td>\n",
              "      <td>25.937280</td>\n",
              "      <td>0.018768</td>\n",
              "      <td>0.015480</td>\n",
              "      <td>22.454911</td>\n",
              "      <td>23.343530</td>\n",
              "      <td>0.017211</td>\n",
              "      <td>0.001428</td>\n",
              "      <td>10.874924</td>\n",
              "      <td>22.531030</td>\n",
              "      <td>0.016479</td>\n",
              "      <td>0.078735</td>\n",
              "      <td>5.871184</td>\n",
              "      <td>0</td>\n",
              "      <td>0</td>\n",
              "      <td>0</td>\n",
              "    </tr>\n",
              "    <tr>\n",
              "      <th>3</th>\n",
              "      <td>2015-01-03 04:00:00</td>\n",
              "      <td>889.9538</td>\n",
              "      <td>25.957544</td>\n",
              "      <td>0.018890</td>\n",
              "      <td>0.016273</td>\n",
              "      <td>22.110481</td>\n",
              "      <td>23.238794</td>\n",
              "      <td>0.017128</td>\n",
              "      <td>0.002599</td>\n",
              "      <td>10.518620</td>\n",
              "      <td>22.512231</td>\n",
              "      <td>0.016487</td>\n",
              "      <td>0.068390</td>\n",
              "      <td>5.883621</td>\n",
              "      <td>0</td>\n",
              "      <td>0</td>\n",
              "      <td>0</td>\n",
              "    </tr>\n",
              "    <tr>\n",
              "      <th>4</th>\n",
              "      <td>2015-01-03 05:00:00</td>\n",
              "      <td>893.6865</td>\n",
              "      <td>25.973840</td>\n",
              "      <td>0.018981</td>\n",
              "      <td>0.017281</td>\n",
              "      <td>21.186089</td>\n",
              "      <td>23.075403</td>\n",
              "      <td>0.017059</td>\n",
              "      <td>0.001729</td>\n",
              "      <td>9.733589</td>\n",
              "      <td>22.481653</td>\n",
              "      <td>0.016456</td>\n",
              "      <td>0.064362</td>\n",
              "      <td>5.611724</td>\n",
              "      <td>0</td>\n",
              "      <td>0</td>\n",
              "      <td>0</td>\n",
              "    </tr>\n",
              "  </tbody>\n",
              "</table>\n",
              "</div>"
            ],
            "text/plain": [
              "              datetime  nat_demand    T2M_toc  ...  Holiday_ID  holiday  school\n",
              "0  2015-01-03 01:00:00    970.3450  25.865259  ...           0        0       0\n",
              "1  2015-01-03 02:00:00    912.1755  25.899255  ...           0        0       0\n",
              "2  2015-01-03 03:00:00    900.2688  25.937280  ...           0        0       0\n",
              "3  2015-01-03 04:00:00    889.9538  25.957544  ...           0        0       0\n",
              "4  2015-01-03 05:00:00    893.6865  25.973840  ...           0        0       0\n",
              "\n",
              "[5 rows x 17 columns]"
            ]
          },
          "metadata": {
            "tags": []
          },
          "execution_count": 124
        }
      ]
    },
    {
      "cell_type": "code",
      "metadata": {
        "colab": {
          "base_uri": "https://localhost:8080/",
          "height": 202
        },
        "id": "wFgCXeINJXfT",
        "outputId": "478ab176-f699-4aac-ed56-eafe29a1035f"
      },
      "source": [
        "# Get the datetime and national load demand features\n",
        "load_demand = df_continuous[['datetime','nat_demand']]\n",
        "load_demand.head(5)"
      ],
      "execution_count": null,
      "outputs": [
        {
          "output_type": "execute_result",
          "data": {
            "text/html": [
              "<div>\n",
              "<style scoped>\n",
              "    .dataframe tbody tr th:only-of-type {\n",
              "        vertical-align: middle;\n",
              "    }\n",
              "\n",
              "    .dataframe tbody tr th {\n",
              "        vertical-align: top;\n",
              "    }\n",
              "\n",
              "    .dataframe thead th {\n",
              "        text-align: right;\n",
              "    }\n",
              "</style>\n",
              "<table border=\"1\" class=\"dataframe\">\n",
              "  <thead>\n",
              "    <tr style=\"text-align: right;\">\n",
              "      <th></th>\n",
              "      <th>datetime</th>\n",
              "      <th>nat_demand</th>\n",
              "    </tr>\n",
              "  </thead>\n",
              "  <tbody>\n",
              "    <tr>\n",
              "      <th>0</th>\n",
              "      <td>2015-01-03 01:00:00</td>\n",
              "      <td>970.3450</td>\n",
              "    </tr>\n",
              "    <tr>\n",
              "      <th>1</th>\n",
              "      <td>2015-01-03 02:00:00</td>\n",
              "      <td>912.1755</td>\n",
              "    </tr>\n",
              "    <tr>\n",
              "      <th>2</th>\n",
              "      <td>2015-01-03 03:00:00</td>\n",
              "      <td>900.2688</td>\n",
              "    </tr>\n",
              "    <tr>\n",
              "      <th>3</th>\n",
              "      <td>2015-01-03 04:00:00</td>\n",
              "      <td>889.9538</td>\n",
              "    </tr>\n",
              "    <tr>\n",
              "      <th>4</th>\n",
              "      <td>2015-01-03 05:00:00</td>\n",
              "      <td>893.6865</td>\n",
              "    </tr>\n",
              "  </tbody>\n",
              "</table>\n",
              "</div>"
            ],
            "text/plain": [
              "              datetime  nat_demand\n",
              "0  2015-01-03 01:00:00    970.3450\n",
              "1  2015-01-03 02:00:00    912.1755\n",
              "2  2015-01-03 03:00:00    900.2688\n",
              "3  2015-01-03 04:00:00    889.9538\n",
              "4  2015-01-03 05:00:00    893.6865"
            ]
          },
          "metadata": {
            "tags": []
          },
          "execution_count": 125
        }
      ]
    },
    {
      "cell_type": "code",
      "metadata": {
        "id": "acDbs3qQLfp2"
      },
      "source": [
        "# Remove seconds from datetime\n",
        "load_demand['datetime'] = pd.to_datetime(load_demand['datetime'])\n",
        "load_demand['datetime'] = load_demand['datetime'].dt.strftime('%m/%d/%Y %H:%M')"
      ],
      "execution_count": null,
      "outputs": []
    },
    {
      "cell_type": "code",
      "metadata": {
        "colab": {
          "base_uri": "https://localhost:8080/"
        },
        "id": "H3ockLjiM-Ul",
        "outputId": "eff882f0-5555-4fb4-f236-30a33321b002"
      },
      "source": [
        "# Get the size of the load demand dataset\n",
        "load_demand.shape"
      ],
      "execution_count": null,
      "outputs": [
        {
          "output_type": "execute_result",
          "data": {
            "text/plain": [
              "(48048, 2)"
            ]
          },
          "metadata": {
            "tags": []
          },
          "execution_count": 127
        }
      ]
    },
    {
      "cell_type": "markdown",
      "metadata": {
        "id": "rEURk1_gNht8"
      },
      "source": [
        "**Exploratory Data Analysis**"
      ]
    },
    {
      "cell_type": "code",
      "metadata": {
        "colab": {
          "base_uri": "https://localhost:8080/"
        },
        "id": "ZYXK7RbXNovq",
        "outputId": "a1deee4b-cd53-4f53-cd89-12ff23c50981"
      },
      "source": [
        "# Examine the load demand dataset\n",
        "load_demand.info()"
      ],
      "execution_count": null,
      "outputs": [
        {
          "output_type": "stream",
          "text": [
            "<class 'pandas.core.frame.DataFrame'>\n",
            "RangeIndex: 48048 entries, 0 to 48047\n",
            "Data columns (total 2 columns):\n",
            " #   Column      Non-Null Count  Dtype  \n",
            "---  ------      --------------  -----  \n",
            " 0   datetime    48048 non-null  object \n",
            " 1   nat_demand  48048 non-null  float64\n",
            "dtypes: float64(1), object(1)\n",
            "memory usage: 750.9+ KB\n"
          ],
          "name": "stdout"
        }
      ]
    },
    {
      "cell_type": "code",
      "metadata": {
        "colab": {
          "base_uri": "https://localhost:8080/",
          "height": 294
        },
        "id": "X55wrupcN8Me",
        "outputId": "6aa640e7-0c13-431b-ee46-3fbf3a7dbb22"
      },
      "source": [
        "# Get statistical information for the load demand data\n",
        "load_demand.describe()"
      ],
      "execution_count": null,
      "outputs": [
        {
          "output_type": "execute_result",
          "data": {
            "text/html": [
              "<div>\n",
              "<style scoped>\n",
              "    .dataframe tbody tr th:only-of-type {\n",
              "        vertical-align: middle;\n",
              "    }\n",
              "\n",
              "    .dataframe tbody tr th {\n",
              "        vertical-align: top;\n",
              "    }\n",
              "\n",
              "    .dataframe thead th {\n",
              "        text-align: right;\n",
              "    }\n",
              "</style>\n",
              "<table border=\"1\" class=\"dataframe\">\n",
              "  <thead>\n",
              "    <tr style=\"text-align: right;\">\n",
              "      <th></th>\n",
              "      <th>nat_demand</th>\n",
              "    </tr>\n",
              "  </thead>\n",
              "  <tbody>\n",
              "    <tr>\n",
              "      <th>count</th>\n",
              "      <td>48048.000000</td>\n",
              "    </tr>\n",
              "    <tr>\n",
              "      <th>mean</th>\n",
              "      <td>1182.868647</td>\n",
              "    </tr>\n",
              "    <tr>\n",
              "      <th>std</th>\n",
              "      <td>192.068896</td>\n",
              "    </tr>\n",
              "    <tr>\n",
              "      <th>min</th>\n",
              "      <td>85.192500</td>\n",
              "    </tr>\n",
              "    <tr>\n",
              "      <th>25%</th>\n",
              "      <td>1020.056900</td>\n",
              "    </tr>\n",
              "    <tr>\n",
              "      <th>50%</th>\n",
              "      <td>1168.427700</td>\n",
              "    </tr>\n",
              "    <tr>\n",
              "      <th>75%</th>\n",
              "      <td>1327.563950</td>\n",
              "    </tr>\n",
              "    <tr>\n",
              "      <th>max</th>\n",
              "      <td>1754.882000</td>\n",
              "    </tr>\n",
              "  </tbody>\n",
              "</table>\n",
              "</div>"
            ],
            "text/plain": [
              "         nat_demand\n",
              "count  48048.000000\n",
              "mean    1182.868647\n",
              "std      192.068896\n",
              "min       85.192500\n",
              "25%     1020.056900\n",
              "50%     1168.427700\n",
              "75%     1327.563950\n",
              "max     1754.882000"
            ]
          },
          "metadata": {
            "tags": []
          },
          "execution_count": 129
        }
      ]
    },
    {
      "cell_type": "code",
      "metadata": {
        "id": "poaSkFT3OVoy"
      },
      "source": [
        "# Set datetime as index\n",
        "load_demand.set_index(load_demand.datetime, inplace=True)"
      ],
      "execution_count": null,
      "outputs": []
    },
    {
      "cell_type": "code",
      "metadata": {
        "id": "4hsvBAa4O2sx",
        "colab": {
          "base_uri": "https://localhost:8080/",
          "height": 404
        },
        "outputId": "1c1c0d51-7e72-401b-c849-f6a636345626"
      },
      "source": [
        "# Plot national load demand from January 2015 to June 2020\n",
        "plt.figure(figsize=(12,6))\n",
        "demand2015_2020 = load_demand['nat_demand'].loc[:'06/26/2020 00:00']\n",
        "demand2015_2020.plot(color=\"black\")\n",
        "plt.title('National load demand for January 2015 to June 2020')\n",
        "plt.ylabel('MWh')\n",
        "plt.savefig('/content/gdrive/My Drive/Colab Notebooks/3546 Deep Learning/Final Project/load_demand_jan2015_jun2020.png')\n",
        "plt.legend()\n",
        "plt.show()"
      ],
      "execution_count": null,
      "outputs": [
        {
          "output_type": "display_data",
          "data": {
            "image/png": "[encoded data removed]",
            "text/plain": [
              "<Figure size 864x432 with 1 Axes>"
            ]
          },
          "metadata": {
            "tags": [],
            "needs_background": "light"
          }
        }
      ]
    },
    {
      "cell_type": "code",
      "metadata": {
        "colab": {
          "base_uri": "https://localhost:8080/",
          "height": 404
        },
        "id": "cNuzCptjhGF6",
        "outputId": "8ab6fdfc-efd4-4a84-9136-16bb10969098"
      },
      "source": [
        "# Plot national load demand from June 2019 to June 2020\n",
        "demand2019_2020 = load_demand['nat_demand'].loc['01/01/2020 00:00':]\n",
        "plt.figure(figsize=(12,6))\n",
        "demand2019_2020.plot(color=\"black\")\n",
        "plt.title('National load demand for January 2020 to June 2020')\n",
        "plt.ylabel('MWh')\n",
        "plt.legend()\n",
        "plt.show()"
      ],
      "execution_count": null,
      "outputs": [
        {
          "output_type": "display_data",
          "data": {
            "image/png": "[encoded data removed]",
            "text/plain": [
              "<Figure size 864x432 with 1 Axes>"
            ]
          },
          "metadata": {
            "tags": [],
            "needs_background": "light"
          }
        }
      ]
    },
    {
      "cell_type": "markdown",
      "metadata": {
        "id": "CoMRYHWBhHSe"
      },
      "source": [
        "The load demand plot for January 2020 to June 2020 shows a significant drop in demand due the to start of the COVID-19 pandemic in March 2020. Therefore the dataset for this project will use the load demand data from January 2015 to month end of February 2020\n"
      ]
    },
    {
      "cell_type": "code",
      "metadata": {
        "colab": {
          "base_uri": "https://localhost:8080/",
          "height": 404
        },
        "id": "bW9K5sorlWh7",
        "outputId": "64f7950b-9c14-4a5e-8d0c-437bbb64cf5f"
      },
      "source": [
        "# Plot the load demand from January 2015 to the month end of February 2020\n",
        "data = load_demand['nat_demand'].loc[:'02/28/2020 23:00']\n",
        "plt.figure(figsize=(12,6))\n",
        "data.plot(color=\"black\")\n",
        "plt.title('National load demand for January 2015 to February 2020')\n",
        "plt.ylabel('MWh')\n",
        "plt.legend()\n",
        "plt.show()"
      ],
      "execution_count": null,
      "outputs": [
        {
          "output_type": "display_data",
          "data": {
            "image/png": "[encoded data removed]",
            "text/plain": [
              "<Figure size 864x432 with 1 Axes>"
            ]
          },
          "metadata": {
            "tags": [],
            "needs_background": "light"
          }
        }
      ]
    },
    {
      "cell_type": "code",
      "metadata": {
        "colab": {
          "base_uri": "https://localhost:8080/",
          "height": 404
        },
        "id": "iPfZCMF4qX5Y",
        "outputId": "67083817-a7b8-4b4d-c803-554f348664d8"
      },
      "source": [
        "# plot a histogram of load demand\n",
        "plt.figure(figsize=(8,6))\n",
        "data.hist()\n",
        "plt.title('Histogram of Load Demand from January 2015 to February 2020')\n",
        "plt.xlabel('MWh')\n",
        "plt.ylabel('Frequency')\n",
        "plt.show()"
      ],
      "execution_count": null,
      "outputs": [
        {
          "output_type": "display_data",
          "data": {
            "image/png": "[encoded data removed]",
            "text/plain": [
              "<Figure size 576x432 with 1 Axes>"
            ]
          },
          "metadata": {
            "tags": [],
            "needs_background": "light"
          }
        }
      ]
    },
    {
      "cell_type": "code",
      "metadata": {
        "colab": {
          "base_uri": "https://localhost:8080/",
          "height": 387
        },
        "id": "dKf0NjMQrTbk",
        "outputId": "77894ee1-a8f2-4abd-8d59-674a87c2738b"
      },
      "source": [
        "# Plot Boxplot of Load Demand\n",
        "plt.figure(figsize=(8,6))\n",
        "plt.boxplot(data)\n",
        "plt.title('Boxplot of Load Demand from January 2015 to February 2020')\n",
        "plt.ylabel('MWh')\n",
        "plt.savefig('/content/gdrive/My Drive/Colab Notebooks/3546 Deep Learning/Final Project/boxplot_jan2015_feb2020.png')\n",
        "plt.show()"
      ],
      "execution_count": null,
      "outputs": [
        {
          "output_type": "display_data",
          "data": {
            "image/png": "[encoded data removed]",
            "text/plain": [
              "<Figure size 576x432 with 1 Axes>"
            ]
          },
          "metadata": {
            "tags": [],
            "needs_background": "light"
          }
        }
      ]
    },
    {
      "cell_type": "markdown",
      "metadata": {
        "id": "DHxsEMY6t2Jj"
      },
      "source": [
        "The load demand plot shows that there are several outlier values which may have been due to power system equipment failure. Replace the outliers with a new value of 500 MWh"
      ]
    },
    {
      "cell_type": "code",
      "metadata": {
        "id": "CX1vcyg3x-jB"
      },
      "source": [
        "data = data.round(decimals=2)"
      ],
      "execution_count": null,
      "outputs": []
    },
    {
      "cell_type": "code",
      "metadata": {
        "id": "Blzyq0CduiKJ"
      },
      "source": [
        "# Replace outlier1: 85.19\n",
        "outlier1 = data == 85.19\n",
        "data[outlier1] = 500.00"
      ],
      "execution_count": null,
      "outputs": []
    },
    {
      "cell_type": "code",
      "metadata": {
        "id": "oefshokN8X6h"
      },
      "source": [
        "# Replace outlier2: 263.62\n",
        "outlier2 = data == 263.62\n",
        "data[outlier2] = 500.00"
      ],
      "execution_count": null,
      "outputs": []
    },
    {
      "cell_type": "code",
      "metadata": {
        "id": "0qtDg5pr-CNl"
      },
      "source": [
        "# Replace outlier3: 380.59\n",
        "outlier3 = data == 380.59\n",
        "data[outlier3] = 500.00"
      ],
      "execution_count": null,
      "outputs": []
    },
    {
      "cell_type": "code",
      "metadata": {
        "id": "35NKIOxy_rte"
      },
      "source": [
        "# Scale the load demand dataset\n",
        "from sklearn.preprocessing import StandardScaler\n",
        "scaler = StandardScaler()\n",
        "data = pd.DataFrame(data)\n",
        "data_scaled = scaler.fit_transform(data)\n",
        "data_scaled = data_scaled.flatten()"
      ],
      "execution_count": null,
      "outputs": []
    },
    {
      "cell_type": "code",
      "metadata": {
        "colab": {
          "base_uri": "https://localhost:8080/"
        },
        "id": "5jErx-v9CfQm",
        "outputId": "76e5bec8-af5d-4543-f78c-9e65a04ba253"
      },
      "source": [
        "data_scaled.shape"
      ],
      "execution_count": null,
      "outputs": [
        {
          "output_type": "execute_result",
          "data": {
            "text/plain": [
              "(45191,)"
            ]
          },
          "metadata": {
            "tags": []
          },
          "execution_count": 141
        }
      ]
    },
    {
      "cell_type": "code",
      "metadata": {
        "colab": {
          "base_uri": "https://localhost:8080/"
        },
        "id": "WRTe3oeICoKg",
        "outputId": "bc31f20e-0d6f-49db-978f-09b40110f668"
      },
      "source": [
        "# Create train, validation and test datasets\n",
        "def get_dataset_partitions(data_scaled, train_split=0.8, val_split=0.1, test_split=0.1):\n",
        "    assert (train_split + test_split + val_split) == 1\n",
        "    \n",
        "    # Only allows for equal validation and test splits\n",
        "    assert val_split == test_split \n",
        "    \n",
        "    val_test_index = int((val_split+test_split)*len(data_scaled)//2)\n",
        "    indices = [int(train_split * len(data_scaled)), int(train_split* len(data_scaled)+val_test_index)]\n",
        "    \n",
        "    train_ds, val_ds, test_ds = np.split(data_scaled, indices, axis=0)\n",
        "    \n",
        "    return train_ds, val_ds, test_ds\n",
        "\n",
        "train_ds, val_ds, test_ds = get_dataset_partitions(data_scaled)\n",
        "print('train data size:', len(train_ds))\n",
        "print('validation data size:', len(val_ds))\n",
        "print('test data size:', len(test_ds))"
      ],
      "execution_count": null,
      "outputs": [
        {
          "output_type": "stream",
          "text": [
            "train data size: 36152\n",
            "validation data size: 4519\n",
            "test data size: 4520\n"
          ],
          "name": "stdout"
        }
      ]
    },
    {
      "cell_type": "code",
      "metadata": {
        "colab": {
          "base_uri": "https://localhost:8080/"
        },
        "id": "iuHb4vu4nKWd",
        "outputId": "80d40d49-0dea-4007-dbeb-7198d9a61284"
      },
      "source": [
        "# Convert the time values to numpy\n",
        "time_index = np.array(load_demand['datetime'].loc[:'02/28/2020 23:00'])\n",
        "\n",
        "train_index = time_index[:len(train_ds)]\n",
        "val_index = time_index[len(train_ds):len(train_ds)+len(val_ds)]\n",
        "test_index = time_index[-len(test_ds):]\n",
        "\n",
        "print('train index size:', len(train_index))\n",
        "print('val index size:', len(val_index))\n",
        "print('test index size:', len(test_ds))"
      ],
      "execution_count": null,
      "outputs": [
        {
          "output_type": "stream",
          "text": [
            "train index size: 36152\n",
            "val index size: 4519\n",
            "test index size: 4520\n"
          ],
          "name": "stdout"
        }
      ]
    },
    {
      "cell_type": "code",
      "metadata": {
        "colab": {
          "base_uri": "https://localhost:8080/"
        },
        "id": "A0hHn14Wol_s",
        "outputId": "00bacf88-c6f8-4903-e7eb-59f2edbcbed4"
      },
      "source": [
        "# Show samples of train, validate and test datasets\n",
        "print('train data:', train_ds[-3:])\n",
        "print('train time index:', train_index[-3:])\n",
        "print('val data:', val_ds[:3])\n",
        "print('val time index:', val_index[:3])\n",
        "print('val data:', val_ds[-3:])\n",
        "print('val time index:', val_index[-3:])\n",
        "print('test data:', test_ds[:3])\n",
        "print('test time index:', test_index[:3])"
      ],
      "execution_count": null,
      "outputs": [
        {
          "output_type": "stream",
          "text": [
            "train data: [-1.20991919 -1.2709838  -0.85084898]\n",
            "train time index: ['02/17/2019 06:00' '02/17/2019 07:00' '02/17/2019 08:00']\n",
            "val data: [-0.63797311 -0.36934036 -0.17079019]\n",
            "val time index: ['02/17/2019 09:00' '02/17/2019 10:00' '02/17/2019 11:00']\n",
            "val data: [0.49483982 0.28685943 0.20822264]\n",
            "val time index: ['08/24/2019 13:00' '08/24/2019 14:00' '08/24/2019 15:00']\n",
            "test data: [-0.02387441 -0.16161762  0.01132148]\n",
            "test time index: ['08/24/2019 16:00' '08/24/2019 17:00' '08/24/2019 18:00']\n"
          ],
          "name": "stdout"
        }
      ]
    },
    {
      "cell_type": "code",
      "metadata": {
        "id": "si13KlD1s6Gw"
      },
      "source": [
        "# Utility function for time series data generation in batches\n",
        "\n",
        "def windowed_dataset(series, window_size, batch_size, shuffle_buffer):\n",
        "    dataset = tf.data.Dataset.from_tensor_slices(series)\n",
        "    dataset = dataset.window(window_size + 1, shift=1, drop_remainder=True)\n",
        "    dataset = dataset.flat_map(lambda window: window.batch(window_size + 1))\n",
        "    dataset = dataset.shuffle(shuffle_buffer, seed=42).map(lambda window: (window[:-1], window[-1]))\n",
        "    dataset = dataset.batch(batch_size).prefetch(1)\n",
        "    return dataset\n",
        "\n",
        "def windowed_dataset_test(series, window_size):\n",
        "    dataset = tf.data.Dataset.from_tensor_slices(series)\n",
        "    dataset = dataset.window(window_size + 1, shift=1, drop_remainder=True)\n",
        "    dataset = dataset.flat_map(lambda window: window.batch(window_size + 1))\n",
        "    dataset = dataset.map(lambda window: (window[:-1][np.newaxis], window[-1][np.newaxis]))\n",
        "    return dataset"
      ],
      "execution_count": null,
      "outputs": []
    },
    {
      "cell_type": "code",
      "metadata": {
        "id": "QuRg0ezuvPbd"
      },
      "source": [
        "# Generate train, validation and test datasets\n",
        "window_size = 96\n",
        "batch_size = 128\n",
        "shuffle_buffer = 128\n",
        "\n",
        "train_dataset = windowed_dataset(train_ds, window_size=window_size, batch_size=batch_size, shuffle_buffer=shuffle_buffer)\n",
        "val_dataset = windowed_dataset(val_ds, window_size=window_size, batch_size=batch_size, shuffle_buffer=shuffle_buffer)\n",
        "test_dataset = windowed_dataset_test(test_ds, window_size=window_size)"
      ],
      "execution_count": null,
      "outputs": []
    },
    {
      "cell_type": "markdown",
      "metadata": {
        "id": "uKkOLs8t5DVR"
      },
      "source": [
        "**Build a SimpleRNN model**"
      ]
    },
    {
      "cell_type": "code",
      "metadata": {
        "colab": {
          "base_uri": "https://localhost:8080/"
        },
        "id": "4cff5IocwDgV",
        "outputId": "81ac8206-9f65-4437-83ba-690522f1e514"
      },
      "source": [
        "# Create a SimpleRNN model with 2 layers\n",
        "rnn_model = keras.models.Sequential([\n",
        "    keras.layers.Lambda(lambda x: tf.expand_dims(x, axis=-1),\n",
        "                      input_shape=[None]),\n",
        "    keras.layers.SimpleRNN(300, return_sequences=True),\n",
        "    keras.layers.SimpleRNN(100, return_sequences=True),\n",
        "    keras.layers.Dense(1)\n",
        "])\n",
        "rnn_model.summary()"
      ],
      "execution_count": null,
      "outputs": [
        {
          "output_type": "stream",
          "text": [
            "Model: \"sequential_8\"\n",
            "_________________________________________________________________\n",
            "Layer (type)                 Output Shape              Param #   \n",
            "=================================================================\n",
            "lambda_10 (Lambda)           (None, None, 1)           0         \n",
            "_________________________________________________________________\n",
            "simple_rnn (SimpleRNN)       (None, None, 300)         90600     \n",
            "_________________________________________________________________\n",
            "simple_rnn_1 (SimpleRNN)     (None, None, 100)         40100     \n",
            "_________________________________________________________________\n",
            "dense_8 (Dense)              (None, None, 1)           101       \n",
            "=================================================================\n",
            "Total params: 130,801\n",
            "Trainable params: 130,801\n",
            "Non-trainable params: 0\n",
            "_________________________________________________________________\n"
          ],
          "name": "stdout"
        }
      ]
    },
    {
      "cell_type": "code",
      "metadata": {
        "colab": {
          "base_uri": "https://localhost:8080/"
        },
        "id": "vlTvO4sd0e8Q",
        "outputId": "87475c0b-c1d4-4cd0-93cb-0027dcb54b9a"
      },
      "source": [
        "# Compile and train SimpleRNN model with learning rate = 1e-3\n",
        "learning_rate = 1e-3\n",
        "epochs = 100\n",
        "callback = tf.keras.callbacks.EarlyStopping(monitor='val_mae', patience=5,restore_best_weights=True)\n",
        "optimizer = tf.keras.optimizers.Adam(learning_rate=learning_rate)\n",
        "rnn_model.compile(loss=tf.keras.losses.MAE, optimizer=optimizer, metrics=[\"mae\"])\n",
        "history_rnn = rnn_model.fit(train_dataset,\n",
        "                         epochs=epochs,\n",
        "                         validation_data=val_dataset,\n",
        "                         callbacks=[callback],                      \n",
        "                         verbose=2)"
      ],
      "execution_count": null,
      "outputs": [
        {
          "output_type": "stream",
          "text": [
            "Epoch 1/100\n",
            "282/282 - 56s - loss: 0.8041 - mae: 0.8041 - val_loss: 0.6500 - val_mae: 0.6500\n",
            "Epoch 2/100\n",
            "282/282 - 49s - loss: 0.8233 - mae: 0.8233 - val_loss: 0.8298 - val_mae: 0.8298\n",
            "Epoch 3/100\n",
            "282/282 - 49s - loss: 0.7123 - mae: 0.7123 - val_loss: 0.9059 - val_mae: 0.9059\n",
            "Epoch 4/100\n",
            "282/282 - 49s - loss: 0.7783 - mae: 0.7783 - val_loss: 0.8422 - val_mae: 0.8422\n",
            "Epoch 5/100\n",
            "282/282 - 50s - loss: 0.7194 - mae: 0.7194 - val_loss: 0.6709 - val_mae: 0.6709\n",
            "Epoch 6/100\n",
            "282/282 - 50s - loss: 0.5958 - mae: 0.5958 - val_loss: 0.6797 - val_mae: 0.6797\n"
          ],
          "name": "stdout"
        }
      ]
    },
    {
      "cell_type": "markdown",
      "metadata": {
        "id": "zOjCvrEY5aCf"
      },
      "source": [
        "**Build a baseline LSTM model**"
      ]
    },
    {
      "cell_type": "code",
      "metadata": {
        "id": "41kRpx6C45nS"
      },
      "source": [
        "# Create a function to build and compile LSTM model\n",
        "def build_lstm_model(learning_rate=1e-3):\n",
        "    lstm_model = keras.models.Sequential([\n",
        "    keras.layers.Lambda(lambda x: tf.expand_dims(x, axis=-1),\n",
        "                      input_shape=[None]),\n",
        "    keras.layers.LSTM(300, return_sequences=True),\n",
        "    keras.layers.LSTM(100, return_sequences=True),\n",
        "    keras.layers.Dense(1)])\n",
        "    optimizer = tf.keras.optimizers.Adam(learning_rate=learning_rate)\n",
        "    lstm_model.compile(loss=tf.keras.losses.MAE, optimizer=optimizer, metrics=[\"mae\"])\n",
        "    return lstm_model"
      ],
      "execution_count": null,
      "outputs": []
    },
    {
      "cell_type": "code",
      "metadata": {
        "colab": {
          "base_uri": "https://localhost:8080/"
        },
        "id": "WuxfxXtE9dfC",
        "outputId": "ece68d82-c907-4316-cce9-008d1967af81"
      },
      "source": [
        "#Train the LSTM model with learning rate = 1e-3\n",
        "callback = tf.keras.callbacks.EarlyStopping(monitor='val_mae', patience=5,restore_best_weights=True)\n",
        "lstm1 = build_lstm_model(learning_rate=1e-3)\n",
        "history_lstm1 = lstm1.fit(train_dataset,\n",
        "                         epochs=epochs,\n",
        "                         validation_data=val_dataset,\n",
        "                         callbacks=[callback],                      \n",
        "                         verbose=2)\n"
      ],
      "execution_count": null,
      "outputs": [
        {
          "output_type": "stream",
          "text": [
            "Epoch 1/100\n",
            "282/282 - 14s - loss: 0.8361 - mae: 0.8361 - val_loss: 0.8354 - val_mae: 0.8354\n",
            "Epoch 2/100\n",
            "282/282 - 8s - loss: 0.8380 - mae: 0.8380 - val_loss: 0.8438 - val_mae: 0.8438\n",
            "Epoch 3/100\n",
            "282/282 - 8s - loss: 0.7544 - mae: 0.7544 - val_loss: 0.6369 - val_mae: 0.6369\n",
            "Epoch 4/100\n",
            "282/282 - 8s - loss: 0.6542 - mae: 0.6542 - val_loss: 0.5812 - val_mae: 0.5812\n",
            "Epoch 5/100\n",
            "282/282 - 8s - loss: 0.5602 - mae: 0.5602 - val_loss: 0.5599 - val_mae: 0.5599\n",
            "Epoch 6/100\n",
            "282/282 - 8s - loss: 0.5360 - mae: 0.5360 - val_loss: 0.5386 - val_mae: 0.5386\n",
            "Epoch 7/100\n",
            "282/282 - 9s - loss: 0.5288 - mae: 0.5288 - val_loss: 0.5404 - val_mae: 0.5404\n",
            "Epoch 8/100\n",
            "282/282 - 9s - loss: 0.5328 - mae: 0.5328 - val_loss: 0.5304 - val_mae: 0.5304\n",
            "Epoch 9/100\n",
            "282/282 - 8s - loss: 0.5115 - mae: 0.5115 - val_loss: 0.5176 - val_mae: 0.5176\n",
            "Epoch 10/100\n",
            "282/282 - 9s - loss: 0.4896 - mae: 0.4896 - val_loss: 0.4823 - val_mae: 0.4823\n",
            "Epoch 11/100\n",
            "282/282 - 9s - loss: 0.4510 - mae: 0.4510 - val_loss: 0.4847 - val_mae: 0.4847\n",
            "Epoch 12/100\n",
            "282/282 - 8s - loss: 0.4375 - mae: 0.4375 - val_loss: 0.5025 - val_mae: 0.5025\n",
            "Epoch 13/100\n",
            "282/282 - 8s - loss: 0.4233 - mae: 0.4233 - val_loss: 0.4589 - val_mae: 0.4589\n",
            "Epoch 14/100\n",
            "282/282 - 8s - loss: 0.4278 - mae: 0.4278 - val_loss: 0.4678 - val_mae: 0.4678\n",
            "Epoch 15/100\n",
            "282/282 - 8s - loss: 0.4135 - mae: 0.4135 - val_loss: 0.4565 - val_mae: 0.4565\n",
            "Epoch 16/100\n",
            "282/282 - 8s - loss: 0.4152 - mae: 0.4152 - val_loss: 0.4650 - val_mae: 0.4650\n",
            "Epoch 17/100\n",
            "282/282 - 9s - loss: 0.4082 - mae: 0.4082 - val_loss: 0.4615 - val_mae: 0.4615\n",
            "Epoch 18/100\n",
            "282/282 - 9s - loss: 0.3991 - mae: 0.3991 - val_loss: 0.4546 - val_mae: 0.4546\n",
            "Epoch 19/100\n",
            "282/282 - 8s - loss: 0.3983 - mae: 0.3983 - val_loss: 0.4595 - val_mae: 0.4595\n",
            "Epoch 20/100\n",
            "282/282 - 8s - loss: 0.3912 - mae: 0.3912 - val_loss: 0.4467 - val_mae: 0.4467\n",
            "Epoch 21/100\n",
            "282/282 - 8s - loss: 0.3875 - mae: 0.3875 - val_loss: 0.4963 - val_mae: 0.4963\n",
            "Epoch 22/100\n",
            "282/282 - 8s - loss: 0.3916 - mae: 0.3916 - val_loss: 0.4427 - val_mae: 0.4427\n",
            "Epoch 23/100\n",
            "282/282 - 8s - loss: 0.3829 - mae: 0.3829 - val_loss: 0.4385 - val_mae: 0.4385\n",
            "Epoch 24/100\n",
            "282/282 - 9s - loss: 0.3764 - mae: 0.3764 - val_loss: 0.4304 - val_mae: 0.4304\n",
            "Epoch 25/100\n",
            "282/282 - 9s - loss: 0.3724 - mae: 0.3724 - val_loss: 0.4319 - val_mae: 0.4319\n",
            "Epoch 26/100\n",
            "282/282 - 8s - loss: 0.3673 - mae: 0.3673 - val_loss: 0.4202 - val_mae: 0.4202\n",
            "Epoch 27/100\n",
            "282/282 - 8s - loss: 0.3639 - mae: 0.3639 - val_loss: 0.4232 - val_mae: 0.4232\n",
            "Epoch 28/100\n",
            "282/282 - 8s - loss: 0.3608 - mae: 0.3608 - val_loss: 0.4212 - val_mae: 0.4212\n",
            "Epoch 29/100\n",
            "282/282 - 8s - loss: 0.3575 - mae: 0.3575 - val_loss: 0.4188 - val_mae: 0.4188\n",
            "Epoch 30/100\n",
            "282/282 - 8s - loss: 0.3543 - mae: 0.3543 - val_loss: 0.4174 - val_mae: 0.4174\n",
            "Epoch 31/100\n",
            "282/282 - 9s - loss: 0.3539 - mae: 0.3539 - val_loss: 0.4141 - val_mae: 0.4141\n",
            "Epoch 32/100\n",
            "282/282 - 9s - loss: 0.3538 - mae: 0.3538 - val_loss: 0.4137 - val_mae: 0.4137\n",
            "Epoch 33/100\n",
            "282/282 - 8s - loss: 0.3537 - mae: 0.3537 - val_loss: 0.4051 - val_mae: 0.4051\n",
            "Epoch 34/100\n",
            "282/282 - 8s - loss: 0.3497 - mae: 0.3497 - val_loss: 0.4063 - val_mae: 0.4063\n",
            "Epoch 35/100\n",
            "282/282 - 8s - loss: 0.3479 - mae: 0.3479 - val_loss: 0.4039 - val_mae: 0.4039\n",
            "Epoch 36/100\n",
            "282/282 - 8s - loss: 0.3464 - mae: 0.3464 - val_loss: 0.4027 - val_mae: 0.4027\n",
            "Epoch 37/100\n",
            "282/282 - 8s - loss: 0.3454 - mae: 0.3454 - val_loss: 0.3996 - val_mae: 0.3996\n",
            "Epoch 38/100\n",
            "282/282 - 9s - loss: 0.3437 - mae: 0.3437 - val_loss: 0.4010 - val_mae: 0.4010\n",
            "Epoch 39/100\n",
            "282/282 - 9s - loss: 0.3429 - mae: 0.3429 - val_loss: 0.4007 - val_mae: 0.4007\n",
            "Epoch 40/100\n",
            "282/282 - 8s - loss: 0.3423 - mae: 0.3423 - val_loss: 0.3942 - val_mae: 0.3942\n",
            "Epoch 41/100\n",
            "282/282 - 9s - loss: 0.3398 - mae: 0.3398 - val_loss: 0.3939 - val_mae: 0.3939\n",
            "Epoch 42/100\n",
            "282/282 - 9s - loss: 0.3408 - mae: 0.3408 - val_loss: 0.3957 - val_mae: 0.3957\n",
            "Epoch 43/100\n",
            "282/282 - 8s - loss: 0.3387 - mae: 0.3387 - val_loss: 0.3936 - val_mae: 0.3936\n",
            "Epoch 44/100\n",
            "282/282 - 8s - loss: 0.3740 - mae: 0.3740 - val_loss: 0.4361 - val_mae: 0.4361\n",
            "Epoch 45/100\n",
            "282/282 - 8s - loss: 0.3429 - mae: 0.3429 - val_loss: 0.3926 - val_mae: 0.3926\n",
            "Epoch 46/100\n",
            "282/282 - 8s - loss: 0.3376 - mae: 0.3376 - val_loss: 0.3920 - val_mae: 0.3920\n",
            "Epoch 47/100\n",
            "282/282 - 8s - loss: 0.3357 - mae: 0.3357 - val_loss: 0.3884 - val_mae: 0.3884\n",
            "Epoch 48/100\n",
            "282/282 - 9s - loss: 0.3336 - mae: 0.3336 - val_loss: 0.3882 - val_mae: 0.3882\n",
            "Epoch 49/100\n",
            "282/282 - 9s - loss: 0.3330 - mae: 0.3330 - val_loss: 0.3881 - val_mae: 0.3881\n",
            "Epoch 50/100\n",
            "282/282 - 8s - loss: 0.3322 - mae: 0.3322 - val_loss: 0.3877 - val_mae: 0.3877\n",
            "Epoch 51/100\n",
            "282/282 - 8s - loss: 0.3308 - mae: 0.3308 - val_loss: 0.3893 - val_mae: 0.3893\n",
            "Epoch 52/100\n",
            "282/282 - 8s - loss: 0.3310 - mae: 0.3310 - val_loss: 0.3923 - val_mae: 0.3923\n",
            "Epoch 53/100\n",
            "282/282 - 8s - loss: 0.3284 - mae: 0.3284 - val_loss: 0.3957 - val_mae: 0.3957\n",
            "Epoch 54/100\n",
            "282/282 - 9s - loss: 0.3283 - mae: 0.3283 - val_loss: 0.3917 - val_mae: 0.3917\n",
            "Epoch 55/100\n",
            "282/282 - 9s - loss: 0.3268 - mae: 0.3268 - val_loss: 0.3872 - val_mae: 0.3872\n",
            "Epoch 56/100\n",
            "282/282 - 9s - loss: 0.3248 - mae: 0.3248 - val_loss: 0.3909 - val_mae: 0.3909\n",
            "Epoch 57/100\n",
            "282/282 - 8s - loss: 0.3248 - mae: 0.3248 - val_loss: 0.3901 - val_mae: 0.3901\n",
            "Epoch 58/100\n",
            "282/282 - 8s - loss: 0.3233 - mae: 0.3233 - val_loss: 0.3907 - val_mae: 0.3907\n",
            "Epoch 59/100\n",
            "282/282 - 8s - loss: 0.3229 - mae: 0.3229 - val_loss: 0.3912 - val_mae: 0.3912\n",
            "Epoch 60/100\n",
            "282/282 - 8s - loss: 0.3214 - mae: 0.3214 - val_loss: 0.3889 - val_mae: 0.3889\n"
          ],
          "name": "stdout"
        }
      ]
    },
    {
      "cell_type": "code",
      "metadata": {
        "colab": {
          "base_uri": "https://localhost:8080/"
        },
        "id": "6TB_wexkEwcn",
        "outputId": "db2b7fcc-007c-469a-815b-bf15066e8a89"
      },
      "source": [
        "#Train the LSTM model with learning rate = 1e-4\n",
        "epochs =100\n",
        "callback = tf.keras.callbacks.EarlyStopping(monitor='val_mae', patience=5,restore_best_weights=True)\n",
        "lstm2 = build_lstm_model(learning_rate=1e-4)\n",
        "history_lstm2 = lstm2.fit(train_dataset,\n",
        "                         epochs=epochs,\n",
        "                         validation_data=val_dataset,\n",
        "                         callbacks=[callback],                      \n",
        "                         verbose=2)"
      ],
      "execution_count": null,
      "outputs": [
        {
          "output_type": "stream",
          "text": [
            "Epoch 1/100\n",
            "282/282 - 13s - loss: 0.8418 - mae: 0.8418 - val_loss: 0.8469 - val_mae: 0.8469\n",
            "Epoch 2/100\n",
            "282/282 - 9s - loss: 0.8389 - mae: 0.8389 - val_loss: 0.8437 - val_mae: 0.8437\n",
            "Epoch 3/100\n",
            "282/282 - 8s - loss: 0.8344 - mae: 0.8344 - val_loss: 0.8354 - val_mae: 0.8354\n",
            "Epoch 4/100\n",
            "282/282 - 8s - loss: 0.6169 - mae: 0.6169 - val_loss: 0.5296 - val_mae: 0.5296\n",
            "Epoch 5/100\n",
            "282/282 - 8s - loss: 0.4825 - mae: 0.4825 - val_loss: 0.5025 - val_mae: 0.5025\n",
            "Epoch 6/100\n",
            "282/282 - 8s - loss: 0.4581 - mae: 0.4581 - val_loss: 0.5015 - val_mae: 0.5015\n",
            "Epoch 7/100\n",
            "282/282 - 8s - loss: 0.4414 - mae: 0.4414 - val_loss: 0.4901 - val_mae: 0.4901\n",
            "Epoch 8/100\n",
            "282/282 - 8s - loss: 0.4327 - mae: 0.4327 - val_loss: 0.4710 - val_mae: 0.4710\n",
            "Epoch 9/100\n",
            "282/282 - 9s - loss: 0.4267 - mae: 0.4267 - val_loss: 0.4714 - val_mae: 0.4714\n",
            "Epoch 10/100\n",
            "282/282 - 8s - loss: 0.4198 - mae: 0.4198 - val_loss: 0.4673 - val_mae: 0.4673\n",
            "Epoch 11/100\n",
            "282/282 - 9s - loss: 0.4141 - mae: 0.4141 - val_loss: 0.4653 - val_mae: 0.4653\n",
            "Epoch 12/100\n",
            "282/282 - 9s - loss: 0.4088 - mae: 0.4088 - val_loss: 0.4558 - val_mae: 0.4558\n",
            "Epoch 13/100\n",
            "282/282 - 8s - loss: 0.4040 - mae: 0.4040 - val_loss: 0.4534 - val_mae: 0.4534\n",
            "Epoch 14/100\n",
            "282/282 - 8s - loss: 0.3982 - mae: 0.3982 - val_loss: 0.4410 - val_mae: 0.4410\n",
            "Epoch 15/100\n",
            "282/282 - 8s - loss: 0.3917 - mae: 0.3917 - val_loss: 0.4385 - val_mae: 0.4385\n",
            "Epoch 16/100\n",
            "282/282 - 8s - loss: 0.3863 - mae: 0.3863 - val_loss: 0.4385 - val_mae: 0.4385\n",
            "Epoch 17/100\n",
            "282/282 - 8s - loss: 0.3827 - mae: 0.3827 - val_loss: 0.4364 - val_mae: 0.4364\n",
            "Epoch 18/100\n",
            "282/282 - 9s - loss: 0.3793 - mae: 0.3793 - val_loss: 0.4329 - val_mae: 0.4329\n",
            "Epoch 19/100\n",
            "282/282 - 9s - loss: 0.3761 - mae: 0.3761 - val_loss: 0.4303 - val_mae: 0.4303\n",
            "Epoch 20/100\n",
            "282/282 - 8s - loss: 0.3740 - mae: 0.3740 - val_loss: 0.4207 - val_mae: 0.4207\n",
            "Epoch 21/100\n",
            "282/282 - 8s - loss: 0.3714 - mae: 0.3714 - val_loss: 0.4226 - val_mae: 0.4226\n",
            "Epoch 22/100\n",
            "282/282 - 8s - loss: 0.3694 - mae: 0.3694 - val_loss: 0.4181 - val_mae: 0.4181\n",
            "Epoch 23/100\n",
            "282/282 - 8s - loss: 0.3675 - mae: 0.3675 - val_loss: 0.4173 - val_mae: 0.4173\n",
            "Epoch 24/100\n",
            "282/282 - 8s - loss: 0.3653 - mae: 0.3653 - val_loss: 0.4134 - val_mae: 0.4134\n",
            "Epoch 25/100\n",
            "282/282 - 9s - loss: 0.3634 - mae: 0.3634 - val_loss: 0.4110 - val_mae: 0.4110\n",
            "Epoch 26/100\n",
            "282/282 - 9s - loss: 0.3624 - mae: 0.3624 - val_loss: 0.4082 - val_mae: 0.4082\n",
            "Epoch 27/100\n",
            "282/282 - 8s - loss: 0.3605 - mae: 0.3605 - val_loss: 0.4079 - val_mae: 0.4079\n",
            "Epoch 28/100\n",
            "282/282 - 8s - loss: 0.3597 - mae: 0.3597 - val_loss: 0.4049 - val_mae: 0.4049\n",
            "Epoch 29/100\n",
            "282/282 - 8s - loss: 0.3581 - mae: 0.3581 - val_loss: 0.4022 - val_mae: 0.4022\n",
            "Epoch 30/100\n",
            "282/282 - 8s - loss: 0.3569 - mae: 0.3569 - val_loss: 0.4042 - val_mae: 0.4042\n",
            "Epoch 31/100\n",
            "282/282 - 8s - loss: 0.3548 - mae: 0.3548 - val_loss: 0.3995 - val_mae: 0.3995\n",
            "Epoch 32/100\n",
            "282/282 - 9s - loss: 0.3537 - mae: 0.3537 - val_loss: 0.3988 - val_mae: 0.3988\n",
            "Epoch 33/100\n",
            "282/282 - 9s - loss: 0.3528 - mae: 0.3528 - val_loss: 0.3956 - val_mae: 0.3956\n",
            "Epoch 34/100\n",
            "282/282 - 8s - loss: 0.3516 - mae: 0.3516 - val_loss: 0.3959 - val_mae: 0.3959\n",
            "Epoch 35/100\n",
            "282/282 - 8s - loss: 0.3501 - mae: 0.3501 - val_loss: 0.3959 - val_mae: 0.3959\n",
            "Epoch 36/100\n",
            "282/282 - 8s - loss: 0.3494 - mae: 0.3494 - val_loss: 0.3969 - val_mae: 0.3969\n",
            "Epoch 37/100\n",
            "282/282 - 8s - loss: 0.3474 - mae: 0.3474 - val_loss: 0.3969 - val_mae: 0.3969\n",
            "Epoch 38/100\n",
            "282/282 - 9s - loss: 0.3467 - mae: 0.3467 - val_loss: 0.3969 - val_mae: 0.3969\n"
          ],
          "name": "stdout"
        }
      ]
    },
    {
      "cell_type": "code",
      "metadata": {
        "colab": {
          "base_uri": "https://localhost:8080/"
        },
        "id": "wDviRJtXJsri",
        "outputId": "1e7a529f-09b1-47da-bc61-2787852308e1"
      },
      "source": [
        "#Train the LSTM model with learning rate = 1e-5\n",
        "lstm3 = build_lstm_model(learning_rate=1e-5)\n",
        "history_lstm3 = lstm3.fit(train_dataset,\n",
        "                         epochs=epochs,\n",
        "                         validation_data=val_dataset,\n",
        "                         callbacks=[callback],                      \n",
        "                         verbose=2)"
      ],
      "execution_count": null,
      "outputs": [
        {
          "output_type": "stream",
          "text": [
            "Epoch 1/100\n",
            "282/282 - 12s - loss: 0.8469 - mae: 0.8469 - val_loss: 0.8554 - val_mae: 0.8554\n",
            "Epoch 2/100\n",
            "282/282 - 8s - loss: 0.8434 - mae: 0.8434 - val_loss: 0.8593 - val_mae: 0.8593\n",
            "Epoch 3/100\n",
            "282/282 - 8s - loss: 0.8417 - mae: 0.8417 - val_loss: 0.8615 - val_mae: 0.8615\n",
            "Epoch 4/100\n",
            "282/282 - 8s - loss: 0.8409 - mae: 0.8409 - val_loss: 0.8620 - val_mae: 0.8620\n",
            "Epoch 5/100\n",
            "282/282 - 8s - loss: 0.8403 - mae: 0.8403 - val_loss: 0.8617 - val_mae: 0.8617\n",
            "Epoch 6/100\n",
            "282/282 - 8s - loss: 0.8398 - mae: 0.8398 - val_loss: 0.8611 - val_mae: 0.8611\n"
          ],
          "name": "stdout"
        }
      ]
    },
    {
      "cell_type": "code",
      "metadata": {
        "colab": {
          "base_uri": "https://localhost:8080/",
          "height": 422
        },
        "id": "BeOpfIaeiRsj",
        "outputId": "9e5cde23-234c-461d-e391-3e53155dd3a2"
      },
      "source": [
        "# Plot the learning curves LSTM model2 with learning rate = 1e-4\n",
        "N = np.arange(0, len(history_lstm2.history[\"mae\"]))\n",
        "plt.figure(figsize=(8, 6))\n",
        "plt.plot(N, history_lstm2.history[\"mae\"],'b-' ,label=\"train_mae\")\n",
        "plt.plot(N, history_lstm2.history[\"val_mae\"],'r-' ,label=\"val_mae\")\n",
        "plt.xlabel(\"Epochs\")\n",
        "plt.ylabel(\"MAE\")\n",
        "plt.title(\"MAE vs Epochs for baseline LSTM model2 learning rate=1e-4\")\n",
        "plt.legend()"
      ],
      "execution_count": null,
      "outputs": [
        {
          "output_type": "execute_result",
          "data": {
            "text/plain": [
              "<matplotlib.legend.Legend at 0x7f014b516710>"
            ]
          },
          "metadata": {
            "tags": []
          },
          "execution_count": 153
        },
        {
          "output_type": "display_data",
          "data": {
            "image/png": "[encoded data removed]",
            "text/plain": [
              "<Figure size 576x432 with 1 Axes>"
            ]
          },
          "metadata": {
            "tags": [],
            "needs_background": "light"
          }
        }
      ]
    },
    {
      "cell_type": "markdown",
      "metadata": {
        "id": "N8-RQQAah3Zm"
      },
      "source": [
        "**Build GRU Model**"
      ]
    },
    {
      "cell_type": "code",
      "metadata": {
        "id": "zRjiURMzh_dY"
      },
      "source": [
        "def build_gru_model(learning_rate=1e-3):\n",
        "    gru_model = keras.models.Sequential([\n",
        "    keras.layers.Lambda(lambda x: tf.expand_dims(x, axis=-1),\n",
        "                      input_shape=[None]),\n",
        "    keras.layers.GRU(300, return_sequences=True),\n",
        "    keras.layers.GRU(100, return_sequences=True),\n",
        "    keras.layers.Dense(1)])\n",
        "    optimizer = tf.keras.optimizers.Adam(learning_rate=learning_rate)\n",
        "    gru_model.compile(loss=tf.keras.losses.MAE, optimizer=optimizer, metrics=[\"mae\"])\n",
        "    return gru_model"
      ],
      "execution_count": null,
      "outputs": []
    },
    {
      "cell_type": "code",
      "metadata": {
        "colab": {
          "base_uri": "https://localhost:8080/"
        },
        "id": "85MviMhYno2Z",
        "outputId": "d0f25e8b-dbb8-4747-f889-508b314c9484"
      },
      "source": [
        "# Train the GRU model with learning rate = 1e-3\n",
        "epochs =100\n",
        "callback = tf.keras.callbacks.EarlyStopping(monitor='val_mae', patience=5,restore_best_weights=True)\n",
        "gru1 = build_gru_model(learning_rate=1e-3)\n",
        "history_gru1 = gru1.fit(train_dataset,\n",
        "                         epochs=epochs,\n",
        "                         validation_data=val_dataset,\n",
        "                         callbacks=[callback],                      \n",
        "                         verbose=2)"
      ],
      "execution_count": null,
      "outputs": [
        {
          "output_type": "stream",
          "text": [
            "Epoch 1/100\n",
            "282/282 - 12s - loss: 0.8377 - mae: 0.8377 - val_loss: 0.8426 - val_mae: 0.8426\n",
            "Epoch 2/100\n",
            "282/282 - 8s - loss: 0.8400 - mae: 0.8400 - val_loss: 0.8423 - val_mae: 0.8423\n",
            "Epoch 3/100\n",
            "282/282 - 8s - loss: 0.8394 - mae: 0.8394 - val_loss: 0.8447 - val_mae: 0.8447\n",
            "Epoch 4/100\n",
            "282/282 - 8s - loss: 0.8408 - mae: 0.8408 - val_loss: 0.8422 - val_mae: 0.8422\n",
            "Epoch 5/100\n",
            "282/282 - 8s - loss: 0.6576 - mae: 0.6576 - val_loss: 0.5275 - val_mae: 0.5275\n",
            "Epoch 6/100\n",
            "282/282 - 8s - loss: 0.4541 - mae: 0.4541 - val_loss: 0.4788 - val_mae: 0.4788\n",
            "Epoch 7/100\n",
            "282/282 - 8s - loss: 0.4035 - mae: 0.4035 - val_loss: 0.4668 - val_mae: 0.4668\n",
            "Epoch 8/100\n",
            "282/282 - 8s - loss: 0.3882 - mae: 0.3882 - val_loss: 0.4526 - val_mae: 0.4526\n",
            "Epoch 9/100\n",
            "282/282 - 8s - loss: 0.3795 - mae: 0.3795 - val_loss: 0.4550 - val_mae: 0.4550\n",
            "Epoch 10/100\n",
            "282/282 - 8s - loss: 0.3691 - mae: 0.3691 - val_loss: 0.4305 - val_mae: 0.4305\n",
            "Epoch 11/100\n",
            "282/282 - 8s - loss: 0.3573 - mae: 0.3573 - val_loss: 0.4221 - val_mae: 0.4221\n",
            "Epoch 12/100\n",
            "282/282 - 8s - loss: 0.3501 - mae: 0.3501 - val_loss: 0.3998 - val_mae: 0.3998\n",
            "Epoch 13/100\n",
            "282/282 - 8s - loss: 0.3462 - mae: 0.3462 - val_loss: 0.4015 - val_mae: 0.4015\n",
            "Epoch 14/100\n",
            "282/282 - 8s - loss: 0.3432 - mae: 0.3432 - val_loss: 0.3985 - val_mae: 0.3985\n",
            "Epoch 15/100\n",
            "282/282 - 8s - loss: 0.3395 - mae: 0.3395 - val_loss: 0.3994 - val_mae: 0.3994\n",
            "Epoch 16/100\n",
            "282/282 - 8s - loss: 0.3362 - mae: 0.3362 - val_loss: 0.4015 - val_mae: 0.4015\n",
            "Epoch 17/100\n",
            "282/282 - 8s - loss: 0.3334 - mae: 0.3334 - val_loss: 0.4011 - val_mae: 0.4011\n",
            "Epoch 18/100\n",
            "282/282 - 9s - loss: 0.3310 - mae: 0.3310 - val_loss: 0.4031 - val_mae: 0.4031\n",
            "Epoch 19/100\n",
            "282/282 - 9s - loss: 0.3292 - mae: 0.3292 - val_loss: 0.4110 - val_mae: 0.4110\n"
          ],
          "name": "stdout"
        }
      ]
    },
    {
      "cell_type": "code",
      "metadata": {
        "colab": {
          "base_uri": "https://localhost:8080/"
        },
        "id": "JYgwb7U6sIuY",
        "outputId": "03ee0fe1-270c-41b2-b8f8-3d5d34643b7d"
      },
      "source": [
        "# Train the GRU model with learning rate = 1e-4\n",
        "gru2 = build_gru_model(learning_rate=1e-4)\n",
        "history_gru2 = gru2.fit(train_dataset,\n",
        "                         epochs=epochs,\n",
        "                         validation_data=val_dataset,\n",
        "                         callbacks=[callback],                      \n",
        "                         verbose=2)"
      ],
      "execution_count": null,
      "outputs": [
        {
          "output_type": "stream",
          "text": [
            "Epoch 1/100\n",
            "282/282 - 12s - loss: 0.8418 - mae: 0.8418 - val_loss: 0.8497 - val_mae: 0.8497\n",
            "Epoch 2/100\n",
            "282/282 - 8s - loss: 0.8419 - mae: 0.8419 - val_loss: 0.8495 - val_mae: 0.8495\n",
            "Epoch 3/100\n",
            "282/282 - 8s - loss: 0.8404 - mae: 0.8404 - val_loss: 0.8501 - val_mae: 0.8501\n",
            "Epoch 4/100\n",
            "282/282 - 8s - loss: 0.8392 - mae: 0.8392 - val_loss: 0.8488 - val_mae: 0.8488\n",
            "Epoch 5/100\n",
            "282/282 - 8s - loss: 0.8381 - mae: 0.8381 - val_loss: 0.8457 - val_mae: 0.8457\n",
            "Epoch 6/100\n",
            "282/282 - 8s - loss: 0.8371 - mae: 0.8371 - val_loss: 0.8409 - val_mae: 0.8409\n",
            "Epoch 7/100\n",
            "282/282 - 8s - loss: 0.8324 - mae: 0.8324 - val_loss: 0.8224 - val_mae: 0.8224\n",
            "Epoch 8/100\n",
            "282/282 - 8s - loss: 0.5727 - mae: 0.5727 - val_loss: 0.5242 - val_mae: 0.5242\n",
            "Epoch 9/100\n",
            "282/282 - 8s - loss: 0.4782 - mae: 0.4782 - val_loss: 0.4818 - val_mae: 0.4818\n",
            "Epoch 10/100\n",
            "282/282 - 8s - loss: 0.4647 - mae: 0.4647 - val_loss: 0.4765 - val_mae: 0.4765\n",
            "Epoch 11/100\n",
            "282/282 - 8s - loss: 0.4542 - mae: 0.4542 - val_loss: 0.4711 - val_mae: 0.4711\n",
            "Epoch 12/100\n",
            "282/282 - 9s - loss: 0.4479 - mae: 0.4479 - val_loss: 0.4640 - val_mae: 0.4640\n",
            "Epoch 13/100\n",
            "282/282 - 8s - loss: 0.4424 - mae: 0.4424 - val_loss: 0.4588 - val_mae: 0.4588\n",
            "Epoch 14/100\n",
            "282/282 - 8s - loss: 0.4380 - mae: 0.4380 - val_loss: 0.4576 - val_mae: 0.4576\n",
            "Epoch 15/100\n",
            "282/282 - 8s - loss: 0.4333 - mae: 0.4333 - val_loss: 0.4525 - val_mae: 0.4525\n",
            "Epoch 16/100\n",
            "282/282 - 8s - loss: 0.4301 - mae: 0.4301 - val_loss: 0.4537 - val_mae: 0.4537\n",
            "Epoch 17/100\n",
            "282/282 - 8s - loss: 0.4249 - mae: 0.4249 - val_loss: 0.4506 - val_mae: 0.4506\n",
            "Epoch 18/100\n",
            "282/282 - 8s - loss: 0.4217 - mae: 0.4217 - val_loss: 0.4531 - val_mae: 0.4531\n",
            "Epoch 19/100\n",
            "282/282 - 8s - loss: 0.4172 - mae: 0.4172 - val_loss: 0.4508 - val_mae: 0.4508\n",
            "Epoch 20/100\n",
            "282/282 - 8s - loss: 0.4142 - mae: 0.4142 - val_loss: 0.4467 - val_mae: 0.4467\n",
            "Epoch 21/100\n",
            "282/282 - 8s - loss: 0.4117 - mae: 0.4117 - val_loss: 0.4493 - val_mae: 0.4493\n",
            "Epoch 22/100\n",
            "282/282 - 8s - loss: 0.4088 - mae: 0.4088 - val_loss: 0.4484 - val_mae: 0.4484\n",
            "Epoch 23/100\n",
            "282/282 - 8s - loss: 0.4064 - mae: 0.4064 - val_loss: 0.4485 - val_mae: 0.4485\n",
            "Epoch 24/100\n",
            "282/282 - 8s - loss: 0.4041 - mae: 0.4041 - val_loss: 0.4486 - val_mae: 0.4486\n",
            "Epoch 25/100\n",
            "282/282 - 8s - loss: 0.4014 - mae: 0.4014 - val_loss: 0.4453 - val_mae: 0.4453\n",
            "Epoch 26/100\n",
            "282/282 - 8s - loss: 0.3993 - mae: 0.3993 - val_loss: 0.4451 - val_mae: 0.4451\n",
            "Epoch 27/100\n",
            "282/282 - 8s - loss: 0.3980 - mae: 0.3980 - val_loss: 0.4435 - val_mae: 0.4435\n",
            "Epoch 28/100\n",
            "282/282 - 8s - loss: 0.3950 - mae: 0.3950 - val_loss: 0.4397 - val_mae: 0.4397\n",
            "Epoch 29/100\n",
            "282/282 - 8s - loss: 0.3937 - mae: 0.3937 - val_loss: 0.4389 - val_mae: 0.4389\n",
            "Epoch 30/100\n",
            "282/282 - 8s - loss: 0.3909 - mae: 0.3909 - val_loss: 0.4381 - val_mae: 0.4381\n",
            "Epoch 31/100\n",
            "282/282 - 8s - loss: 0.3892 - mae: 0.3892 - val_loss: 0.4382 - val_mae: 0.4382\n",
            "Epoch 32/100\n",
            "282/282 - 8s - loss: 0.3877 - mae: 0.3877 - val_loss: 0.4362 - val_mae: 0.4362\n",
            "Epoch 33/100\n",
            "282/282 - 8s - loss: 0.3855 - mae: 0.3855 - val_loss: 0.4331 - val_mae: 0.4331\n",
            "Epoch 34/100\n",
            "282/282 - 8s - loss: 0.3831 - mae: 0.3831 - val_loss: 0.4356 - val_mae: 0.4356\n",
            "Epoch 35/100\n",
            "282/282 - 8s - loss: 0.3811 - mae: 0.3811 - val_loss: 0.4312 - val_mae: 0.4312\n",
            "Epoch 36/100\n",
            "282/282 - 8s - loss: 0.3788 - mae: 0.3788 - val_loss: 0.4313 - val_mae: 0.4313\n",
            "Epoch 37/100\n",
            "282/282 - 8s - loss: 0.3772 - mae: 0.3772 - val_loss: 0.4304 - val_mae: 0.4304\n",
            "Epoch 38/100\n",
            "282/282 - 8s - loss: 0.3747 - mae: 0.3747 - val_loss: 0.4322 - val_mae: 0.4322\n",
            "Epoch 39/100\n",
            "282/282 - 8s - loss: 0.3728 - mae: 0.3728 - val_loss: 0.4258 - val_mae: 0.4258\n",
            "Epoch 40/100\n",
            "282/282 - 8s - loss: 0.3708 - mae: 0.3708 - val_loss: 0.4202 - val_mae: 0.4202\n",
            "Epoch 41/100\n",
            "282/282 - 8s - loss: 0.3694 - mae: 0.3694 - val_loss: 0.4191 - val_mae: 0.4191\n",
            "Epoch 42/100\n",
            "282/282 - 8s - loss: 0.3684 - mae: 0.3684 - val_loss: 0.4184 - val_mae: 0.4184\n",
            "Epoch 43/100\n",
            "282/282 - 8s - loss: 0.3669 - mae: 0.3669 - val_loss: 0.4164 - val_mae: 0.4164\n",
            "Epoch 44/100\n",
            "282/282 - 8s - loss: 0.3648 - mae: 0.3648 - val_loss: 0.4146 - val_mae: 0.4146\n",
            "Epoch 45/100\n",
            "282/282 - 8s - loss: 0.3633 - mae: 0.3633 - val_loss: 0.4136 - val_mae: 0.4136\n",
            "Epoch 46/100\n",
            "282/282 - 8s - loss: 0.3616 - mae: 0.3616 - val_loss: 0.4146 - val_mae: 0.4146\n",
            "Epoch 47/100\n",
            "282/282 - 8s - loss: 0.3605 - mae: 0.3605 - val_loss: 0.4085 - val_mae: 0.4085\n",
            "Epoch 48/100\n",
            "282/282 - 8s - loss: 0.3591 - mae: 0.3591 - val_loss: 0.4073 - val_mae: 0.4073\n",
            "Epoch 49/100\n",
            "282/282 - 9s - loss: 0.3584 - mae: 0.3584 - val_loss: 0.4070 - val_mae: 0.4070\n",
            "Epoch 50/100\n",
            "282/282 - 8s - loss: 0.3568 - mae: 0.3568 - val_loss: 0.4037 - val_mae: 0.4037\n",
            "Epoch 51/100\n",
            "282/282 - 8s - loss: 0.3561 - mae: 0.3561 - val_loss: 0.4067 - val_mae: 0.4067\n",
            "Epoch 52/100\n",
            "282/282 - 9s - loss: 0.3544 - mae: 0.3544 - val_loss: 0.4042 - val_mae: 0.4042\n",
            "Epoch 53/100\n",
            "282/282 - 9s - loss: 0.3545 - mae: 0.3545 - val_loss: 0.4039 - val_mae: 0.4039\n",
            "Epoch 54/100\n",
            "282/282 - 8s - loss: 0.3537 - mae: 0.3537 - val_loss: 0.3993 - val_mae: 0.3993\n",
            "Epoch 55/100\n",
            "282/282 - 8s - loss: 0.3525 - mae: 0.3525 - val_loss: 0.4005 - val_mae: 0.4005\n",
            "Epoch 56/100\n",
            "282/282 - 8s - loss: 0.3508 - mae: 0.3508 - val_loss: 0.3986 - val_mae: 0.3986\n",
            "Epoch 57/100\n",
            "282/282 - 8s - loss: 0.3503 - mae: 0.3503 - val_loss: 0.3964 - val_mae: 0.3964\n",
            "Epoch 58/100\n",
            "282/282 - 8s - loss: 0.3498 - mae: 0.3498 - val_loss: 0.3952 - val_mae: 0.3952\n",
            "Epoch 59/100\n",
            "282/282 - 8s - loss: 0.3486 - mae: 0.3486 - val_loss: 0.3927 - val_mae: 0.3927\n",
            "Epoch 60/100\n",
            "282/282 - 8s - loss: 0.3472 - mae: 0.3472 - val_loss: 0.3915 - val_mae: 0.3915\n",
            "Epoch 61/100\n",
            "282/282 - 8s - loss: 0.3472 - mae: 0.3472 - val_loss: 0.3874 - val_mae: 0.3874\n",
            "Epoch 62/100\n",
            "282/282 - 8s - loss: 0.3467 - mae: 0.3467 - val_loss: 0.3882 - val_mae: 0.3882\n",
            "Epoch 63/100\n",
            "282/282 - 8s - loss: 0.3452 - mae: 0.3452 - val_loss: 0.3891 - val_mae: 0.3891\n",
            "Epoch 64/100\n",
            "282/282 - 8s - loss: 0.3445 - mae: 0.3445 - val_loss: 0.3889 - val_mae: 0.3889\n",
            "Epoch 65/100\n",
            "282/282 - 8s - loss: 0.3436 - mae: 0.3436 - val_loss: 0.3873 - val_mae: 0.3873\n",
            "Epoch 66/100\n",
            "282/282 - 8s - loss: 0.3426 - mae: 0.3426 - val_loss: 0.3868 - val_mae: 0.3868\n",
            "Epoch 67/100\n",
            "282/282 - 9s - loss: 0.3416 - mae: 0.3416 - val_loss: 0.3854 - val_mae: 0.3854\n",
            "Epoch 68/100\n",
            "282/282 - 8s - loss: 0.3413 - mae: 0.3413 - val_loss: 0.3845 - val_mae: 0.3845\n",
            "Epoch 69/100\n",
            "282/282 - 8s - loss: 0.3410 - mae: 0.3410 - val_loss: 0.3873 - val_mae: 0.3873\n",
            "Epoch 70/100\n",
            "282/282 - 8s - loss: 0.3399 - mae: 0.3399 - val_loss: 0.3874 - val_mae: 0.3874\n",
            "Epoch 71/100\n",
            "282/282 - 8s - loss: 0.3388 - mae: 0.3388 - val_loss: 0.3842 - val_mae: 0.3842\n",
            "Epoch 72/100\n",
            "282/282 - 8s - loss: 0.3384 - mae: 0.3384 - val_loss: 0.3824 - val_mae: 0.3824\n",
            "Epoch 73/100\n",
            "282/282 - 9s - loss: 0.3379 - mae: 0.3379 - val_loss: 0.3805 - val_mae: 0.3805\n",
            "Epoch 74/100\n",
            "282/282 - 9s - loss: 0.3376 - mae: 0.3376 - val_loss: 0.3824 - val_mae: 0.3824\n",
            "Epoch 75/100\n",
            "282/282 - 8s - loss: 0.3367 - mae: 0.3367 - val_loss: 0.3813 - val_mae: 0.3813\n",
            "Epoch 76/100\n",
            "282/282 - 8s - loss: 0.3358 - mae: 0.3358 - val_loss: 0.3841 - val_mae: 0.3841\n",
            "Epoch 77/100\n",
            "282/282 - 8s - loss: 0.3353 - mae: 0.3353 - val_loss: 0.3829 - val_mae: 0.3829\n",
            "Epoch 78/100\n",
            "282/282 - 8s - loss: 0.3347 - mae: 0.3347 - val_loss: 0.3842 - val_mae: 0.3842\n"
          ],
          "name": "stdout"
        }
      ]
    },
    {
      "cell_type": "code",
      "metadata": {
        "colab": {
          "base_uri": "https://localhost:8080/"
        },
        "id": "noQn6F3Qxehr",
        "outputId": "8140ef3e-b908-4c13-daa1-186266888fe1"
      },
      "source": [
        "# Train the GRU model with learning rate = 1e-5\n",
        "gru3 = build_gru_model(learning_rate=1e-5)\n",
        "history_gru3 = gru3.fit(train_dataset,\n",
        "                         epochs=epochs,\n",
        "                         validation_data=val_dataset,\n",
        "                         callbacks=[callback],                      \n",
        "                         verbose=2)\n"
      ],
      "execution_count": null,
      "outputs": [
        {
          "output_type": "stream",
          "text": [
            "Epoch 1/100\n",
            "282/282 - 12s - loss: 0.8466 - mae: 0.8466 - val_loss: 0.8603 - val_mae: 0.8603\n",
            "Epoch 2/100\n",
            "282/282 - 8s - loss: 0.8444 - mae: 0.8444 - val_loss: 0.8671 - val_mae: 0.8671\n",
            "Epoch 3/100\n",
            "282/282 - 8s - loss: 0.8429 - mae: 0.8429 - val_loss: 0.8708 - val_mae: 0.8708\n",
            "Epoch 4/100\n",
            "282/282 - 8s - loss: 0.8421 - mae: 0.8421 - val_loss: 0.8722 - val_mae: 0.8722\n",
            "Epoch 5/100\n",
            "282/282 - 8s - loss: 0.8416 - mae: 0.8416 - val_loss: 0.8720 - val_mae: 0.8720\n",
            "Epoch 6/100\n",
            "282/282 - 8s - loss: 0.8411 - mae: 0.8411 - val_loss: 0.8712 - val_mae: 0.8712\n"
          ],
          "name": "stdout"
        }
      ]
    },
    {
      "cell_type": "code",
      "metadata": {
        "colab": {
          "base_uri": "https://localhost:8080/",
          "height": 422
        },
        "id": "nb8ca8n7z4u2",
        "outputId": "c0412b42-7274-4432-95ed-364a659c7165"
      },
      "source": [
        "# Plot the learning curves GRU model2 with learning rate = 1e-4\n",
        "N = np.arange(0, len(history_gru2.history[\"mae\"]))\n",
        "plt.figure(figsize=(8, 6))\n",
        "plt.plot(N, history_gru2.history[\"mae\"],'b-' ,label=\"train_mae\")\n",
        "plt.plot(N, history_gru2.history[\"val_mae\"],'r-' ,label=\"val_mae\")\n",
        "plt.xlabel(\"Epochs\")\n",
        "plt.ylabel(\"MAE\")\n",
        "plt.title(\"MAE vs Epochs for GRU model2 learning rate=1e-4\")\n",
        "plt.legend()"
      ],
      "execution_count": null,
      "outputs": [
        {
          "output_type": "execute_result",
          "data": {
            "text/plain": [
              "<matplotlib.legend.Legend at 0x7f0133fea710>"
            ]
          },
          "metadata": {
            "tags": []
          },
          "execution_count": 158
        },
        {
          "output_type": "display_data",
          "data": {
            "image/png": "[encoded data removed]",
            "text/plain": [
              "<Figure size 576x432 with 1 Axes>"
            ]
          },
          "metadata": {
            "tags": [],
            "needs_background": "light"
          }
        }
      ]
    },
    {
      "cell_type": "markdown",
      "metadata": {
        "id": "eINSqmC0HbDh"
      },
      "source": [
        "**Build a GRU model with 3 hidden layers**"
      ]
    },
    {
      "cell_type": "code",
      "metadata": {
        "id": "KtmN-PgdHl_4"
      },
      "source": [
        "# Build a gru model with 3 hidden layers \n",
        "learning_rate = 1e-4\n",
        "gru4 = keras.models.Sequential([\n",
        "    keras.layers.Lambda(lambda x: tf.expand_dims(x, axis=-1),\n",
        "                      input_shape=[None]),\n",
        "    keras.layers.GRU(300, return_sequences=True),\n",
        "    keras.layers.GRU(200, return_sequences=True),\n",
        "    keras.layers.GRU(100, return_sequences=True),\n",
        "    keras.layers.Dense(1)])\n",
        "optimizer = tf.keras.optimizers.Adam(learning_rate=learning_rate)\n",
        "gru4.compile(loss=tf.keras.losses.MAE, optimizer=optimizer, metrics=[\"mae\"])"
      ],
      "execution_count": null,
      "outputs": []
    },
    {
      "cell_type": "code",
      "metadata": {
        "colab": {
          "base_uri": "https://localhost:8080/"
        },
        "id": "KKqixr4OHqK6",
        "outputId": "957c7c63-3124-4e3d-f6da-97279a84565a"
      },
      "source": [
        "# Train the GRU model with 3 hidden layers and learning rate = 1e-4\n",
        "epochs = 100\n",
        "callback = tf.keras.callbacks.EarlyStopping(monitor='val_mae', patience=5,restore_best_weights=True)\n",
        "history_gru4 = gru4.fit(train_dataset,\n",
        "                         epochs=epochs,\n",
        "                         validation_data=val_dataset,\n",
        "                         callbacks=[callback],                      \n",
        "                         verbose=2)"
      ],
      "execution_count": null,
      "outputs": [
        {
          "output_type": "stream",
          "text": [
            "Epoch 1/100\n",
            "282/282 - 14s - loss: 0.8417 - mae: 0.8417 - val_loss: 0.8476 - val_mae: 0.8476\n",
            "Epoch 2/100\n",
            "282/282 - 9s - loss: 0.8415 - mae: 0.8415 - val_loss: 0.8438 - val_mae: 0.8438\n",
            "Epoch 3/100\n",
            "282/282 - 9s - loss: 0.8399 - mae: 0.8399 - val_loss: 0.8493 - val_mae: 0.8493\n",
            "Epoch 4/100\n",
            "282/282 - 9s - loss: 0.8389 - mae: 0.8389 - val_loss: 0.8459 - val_mae: 0.8459\n",
            "Epoch 5/100\n",
            "282/282 - 10s - loss: 0.8385 - mae: 0.8385 - val_loss: 0.8447 - val_mae: 0.8447\n",
            "Epoch 6/100\n",
            "282/282 - 10s - loss: 0.8374 - mae: 0.8374 - val_loss: 0.8410 - val_mae: 0.8410\n",
            "Epoch 7/100\n",
            "282/282 - 9s - loss: 0.8368 - mae: 0.8368 - val_loss: 0.8379 - val_mae: 0.8379\n",
            "Epoch 8/100\n",
            "282/282 - 9s - loss: 0.8343 - mae: 0.8343 - val_loss: 0.8300 - val_mae: 0.8300\n",
            "Epoch 9/100\n",
            "282/282 - 9s - loss: 0.6283 - mae: 0.6283 - val_loss: 0.5561 - val_mae: 0.5561\n",
            "Epoch 10/100\n",
            "282/282 - 9s - loss: 0.4929 - mae: 0.4929 - val_loss: 0.5929 - val_mae: 0.5929\n",
            "Epoch 11/100\n",
            "282/282 - 10s - loss: 0.4623 - mae: 0.4623 - val_loss: 0.5549 - val_mae: 0.5549\n",
            "Epoch 12/100\n",
            "282/282 - 10s - loss: 0.4396 - mae: 0.4396 - val_loss: 0.5419 - val_mae: 0.5419\n",
            "Epoch 13/100\n",
            "282/282 - 10s - loss: 0.4256 - mae: 0.4256 - val_loss: 0.5241 - val_mae: 0.5241\n",
            "Epoch 14/100\n",
            "282/282 - 9s - loss: 0.4185 - mae: 0.4185 - val_loss: 0.5109 - val_mae: 0.5109\n",
            "Epoch 15/100\n",
            "282/282 - 9s - loss: 0.4145 - mae: 0.4145 - val_loss: 0.5021 - val_mae: 0.5021\n",
            "Epoch 16/100\n",
            "282/282 - 9s - loss: 0.4095 - mae: 0.4095 - val_loss: 0.4925 - val_mae: 0.4925\n",
            "Epoch 17/100\n",
            "282/282 - 9s - loss: 0.4062 - mae: 0.4062 - val_loss: 0.4881 - val_mae: 0.4881\n",
            "Epoch 18/100\n",
            "282/282 - 10s - loss: 0.4017 - mae: 0.4017 - val_loss: 0.4801 - val_mae: 0.4801\n",
            "Epoch 19/100\n",
            "282/282 - 10s - loss: 0.3988 - mae: 0.3988 - val_loss: 0.4769 - val_mae: 0.4769\n",
            "Epoch 20/100\n",
            "282/282 - 9s - loss: 0.3957 - mae: 0.3957 - val_loss: 0.4686 - val_mae: 0.4686\n",
            "Epoch 21/100\n",
            "282/282 - 9s - loss: 0.3914 - mae: 0.3914 - val_loss: 0.4607 - val_mae: 0.4607\n",
            "Epoch 22/100\n",
            "282/282 - 9s - loss: 0.3872 - mae: 0.3872 - val_loss: 0.4545 - val_mae: 0.4545\n",
            "Epoch 23/100\n",
            "282/282 - 9s - loss: 0.3830 - mae: 0.3830 - val_loss: 0.4461 - val_mae: 0.4461\n",
            "Epoch 24/100\n",
            "282/282 - 10s - loss: 0.3785 - mae: 0.3785 - val_loss: 0.4384 - val_mae: 0.4384\n",
            "Epoch 25/100\n",
            "282/282 - 10s - loss: 0.3740 - mae: 0.3740 - val_loss: 0.4326 - val_mae: 0.4326\n",
            "Epoch 26/100\n",
            "282/282 - 9s - loss: 0.3697 - mae: 0.3697 - val_loss: 0.4311 - val_mae: 0.4311\n",
            "Epoch 27/100\n",
            "282/282 - 9s - loss: 0.3649 - mae: 0.3649 - val_loss: 0.4269 - val_mae: 0.4269\n",
            "Epoch 28/100\n",
            "282/282 - 9s - loss: 0.3610 - mae: 0.3610 - val_loss: 0.4216 - val_mae: 0.4216\n",
            "Epoch 29/100\n",
            "282/282 - 9s - loss: 0.3580 - mae: 0.3580 - val_loss: 0.4191 - val_mae: 0.4191\n",
            "Epoch 30/100\n",
            "282/282 - 9s - loss: 0.3547 - mae: 0.3547 - val_loss: 0.4163 - val_mae: 0.4163\n",
            "Epoch 31/100\n",
            "282/282 - 10s - loss: 0.3523 - mae: 0.3523 - val_loss: 0.4112 - val_mae: 0.4112\n",
            "Epoch 32/100\n",
            "282/282 - 10s - loss: 0.3501 - mae: 0.3501 - val_loss: 0.4098 - val_mae: 0.4098\n",
            "Epoch 33/100\n",
            "282/282 - 9s - loss: 0.3478 - mae: 0.3478 - val_loss: 0.4079 - val_mae: 0.4079\n",
            "Epoch 34/100\n",
            "282/282 - 10s - loss: 0.3464 - mae: 0.3464 - val_loss: 0.4050 - val_mae: 0.4050\n",
            "Epoch 35/100\n",
            "282/282 - 10s - loss: 0.3451 - mae: 0.3451 - val_loss: 0.4030 - val_mae: 0.4030\n",
            "Epoch 36/100\n",
            "282/282 - 9s - loss: 0.3438 - mae: 0.3438 - val_loss: 0.4007 - val_mae: 0.4007\n",
            "Epoch 37/100\n",
            "282/282 - 9s - loss: 0.3426 - mae: 0.3426 - val_loss: 0.4011 - val_mae: 0.4011\n",
            "Epoch 38/100\n",
            "282/282 - 9s - loss: 0.3418 - mae: 0.3418 - val_loss: 0.3973 - val_mae: 0.3973\n",
            "Epoch 39/100\n",
            "282/282 - 9s - loss: 0.3411 - mae: 0.3411 - val_loss: 0.3982 - val_mae: 0.3982\n",
            "Epoch 40/100\n",
            "282/282 - 10s - loss: 0.3401 - mae: 0.3401 - val_loss: 0.3981 - val_mae: 0.3981\n",
            "Epoch 41/100\n",
            "282/282 - 10s - loss: 0.3391 - mae: 0.3391 - val_loss: 0.3961 - val_mae: 0.3961\n",
            "Epoch 42/100\n",
            "282/282 - 10s - loss: 0.3385 - mae: 0.3385 - val_loss: 0.3985 - val_mae: 0.3985\n",
            "Epoch 43/100\n",
            "282/282 - 9s - loss: 0.3381 - mae: 0.3381 - val_loss: 0.3953 - val_mae: 0.3953\n",
            "Epoch 44/100\n",
            "282/282 - 9s - loss: 0.3371 - mae: 0.3371 - val_loss: 0.3941 - val_mae: 0.3941\n",
            "Epoch 45/100\n",
            "282/282 - 9s - loss: 0.3366 - mae: 0.3366 - val_loss: 0.3945 - val_mae: 0.3945\n",
            "Epoch 46/100\n",
            "282/282 - 9s - loss: 0.3362 - mae: 0.3362 - val_loss: 0.3956 - val_mae: 0.3956\n",
            "Epoch 47/100\n",
            "282/282 - 10s - loss: 0.3355 - mae: 0.3355 - val_loss: 0.3917 - val_mae: 0.3917\n",
            "Epoch 48/100\n",
            "282/282 - 10s - loss: 0.3348 - mae: 0.3348 - val_loss: 0.3954 - val_mae: 0.3954\n",
            "Epoch 49/100\n",
            "282/282 - 10s - loss: 0.3343 - mae: 0.3343 - val_loss: 0.3945 - val_mae: 0.3945\n",
            "Epoch 50/100\n",
            "282/282 - 9s - loss: 0.3340 - mae: 0.3340 - val_loss: 0.3937 - val_mae: 0.3937\n",
            "Epoch 51/100\n",
            "282/282 - 9s - loss: 0.3334 - mae: 0.3334 - val_loss: 0.3936 - val_mae: 0.3936\n",
            "Epoch 52/100\n",
            "282/282 - 9s - loss: 0.3325 - mae: 0.3325 - val_loss: 0.3930 - val_mae: 0.3930\n"
          ],
          "name": "stdout"
        }
      ]
    },
    {
      "cell_type": "code",
      "metadata": {
        "colab": {
          "base_uri": "https://localhost:8080/"
        },
        "id": "TDCN1G0J2rcr",
        "outputId": "f1e5f229-d4d8-4404-866a-3b5e488e56a3"
      },
      "source": [
        "# gru4 test dataset loss \n",
        "gru4_test_loss = gru4.evaluate(test_dataset, steps=35)\n",
        "print('GRU4 test MAE:', gru4_test_loss[1])"
      ],
      "execution_count": null,
      "outputs": [
        {
          "output_type": "stream",
          "text": [
            "35/35 [==============================] - 3s 13ms/step - loss: 0.3077 - mae: 0.3077\n",
            "GRU4 test MAE: 0.30770665407180786\n"
          ],
          "name": "stdout"
        }
      ]
    },
    {
      "cell_type": "code",
      "metadata": {
        "id": "qOKXF5VdnnLw"
      },
      "source": [
        "# Predict test_dataset \n",
        "gru4_forecast = gru4.predict(test_dataset)\n"
      ],
      "execution_count": null,
      "outputs": []
    },
    {
      "cell_type": "code",
      "metadata": {
        "id": "P81kbiKgr0FP"
      },
      "source": [
        "# predictions of test_data\n",
        "gru4_forecast_test = gru4_forecast[:,0]"
      ],
      "execution_count": null,
      "outputs": []
    },
    {
      "cell_type": "code",
      "metadata": {
        "id": "K6F07IkttHBc"
      },
      "source": [
        "# Invserse transform forecast data\n",
        "gru4_forecast_inv = scaler.inverse_transform(gru4_forecast_test)"
      ],
      "execution_count": null,
      "outputs": []
    },
    {
      "cell_type": "code",
      "metadata": {
        "id": "wNKiy4WKttM2"
      },
      "source": [
        "# Get the original test data less last window \n",
        "window_size =96\n",
        "test_data = scaler.inverse_transform(test_ds)\n",
        "actual_load = []\n",
        "for y in test_data[:len(test_ds)-window_size]:\n",
        "    actual_load.append(y)"
      ],
      "execution_count": null,
      "outputs": []
    },
    {
      "cell_type": "code",
      "metadata": {
        "colab": {
          "base_uri": "https://localhost:8080/"
        },
        "id": "3Xy5Wc30EacX",
        "outputId": "52d668a5-3972-496b-85a9-028229f0d68c"
      },
      "source": [
        "# gru4 model MWh error\n",
        "from sklearn.metrics import mean_absolute_error\n",
        "gru4_error = mean_absolute_error(np.array(actual_load), gru4_forecast_inv.flatten())\n",
        "print('GRU4 Model error:{} MWh'.format(gru4_error))"
      ],
      "execution_count": null,
      "outputs": [
        {
          "output_type": "stream",
          "text": [
            "GRU4 Model error:69.93889255240856 MWh\n"
          ],
          "name": "stdout"
        }
      ]
    },
    {
      "cell_type": "code",
      "metadata": {
        "colab": {
          "base_uri": "https://localhost:8080/",
          "height": 324
        },
        "id": "4Y-pr4QKP9Yl",
        "outputId": "84bde891-103a-4ccc-f78b-464a001bf0b0"
      },
      "source": [
        "# Plot the test load demand and forecast load demand for the first of test data using GRU4\n",
        "test = scaler.inverse_transform(test_ds)\n",
        "gru4_forecast_inv_flatten =  gru4_forecast_inv.flatten()\n",
        "forecast_gru4_testdata = {'test_index':test_index[:168],'test_load':test[:168],'test_forecast':gru4_forecast_inv_flatten[:168]}\n",
        "forecast_gru4_testdata = pd.DataFrame(forecast_gru4_testdata)\n",
        "forecast_gru4_testdata.set_index('test_index', inplace=True)\n",
        "plt.style.use('fivethirtyeight')\n",
        "plt.figure(figsize = (16,4))\n",
        "plt.grid(False)\n",
        "forecast_gru4_testdata.test_load.plot(color=\"black\")\n",
        "forecast_gru4_testdata.test_forecast.plot(color=\"green\")\n",
        "plt.title(' Load and Forecast Demand for first week of test data using GRU Model4 with window size = 96')           \n",
        "plt.ylabel('MWh')\n",
        "plt.legend()\n",
        "plt.savefig('/content/gdrive/My Drive/Colab Notebooks/3546 Deep Learning/Final Project/load_forecast_gru4.png')"
      ],
      "execution_count": null,
      "outputs": [
        {
          "output_type": "display_data",
          "data": {
            "image/png": "[encoded data removed]",
            "text/plain": [
              "<Figure size 1152x288 with 1 Axes>"
            ]
          },
          "metadata": {
            "tags": []
          }
        }
      ]
    },
    {
      "cell_type": "markdown",
      "metadata": {
        "id": "0r7T0jfh1sSy"
      },
      "source": [
        "**Build GRU model using a 1D convolutional layer**"
      ]
    },
    {
      "cell_type": "code",
      "metadata": {
        "id": "NnhoVRcU0WAb"
      },
      "source": [
        "# Build a GRU model using a 1D convolutional layer\n",
        "learning_rate = 1e-4\n",
        "gru5 = keras.models.Sequential([\n",
        "    keras.layers.Lambda(lambda x: tf.expand_dims(x, axis=-1),\n",
        "                      input_shape=[None]),                            \n",
        "    keras.layers.Conv1D(filters=200, kernel_size=2, strides=1, padding=\"same\"),\n",
        "    keras.layers.GRU(200, return_sequences=True),\n",
        "    keras.layers.GRU(100, return_sequences=True),\n",
        "    keras.layers.Dense(1)\n",
        "])\n",
        "optimizer = tf.keras.optimizers.Adam(learning_rate=learning_rate)\n",
        "gru5.compile(loss=tf.keras.losses.MAE, optimizer=optimizer, metrics=[\"mae\"])"
      ],
      "execution_count": null,
      "outputs": []
    },
    {
      "cell_type": "code",
      "metadata": {
        "colab": {
          "base_uri": "https://localhost:8080/"
        },
        "id": "vuPK-I254fms",
        "outputId": "f9e9f4ae-9d4a-42fd-9af8-232ba258f48d"
      },
      "source": [
        "# Train GRU model using a 1D convolutional layer\n",
        "history_gru5 = gru5.fit(train_dataset,\n",
        "                         epochs=epochs,\n",
        "                         validation_data=val_dataset,\n",
        "                         callbacks=[callback],                      \n",
        "                         verbose=2)"
      ],
      "execution_count": null,
      "outputs": [
        {
          "output_type": "stream",
          "text": [
            "Epoch 1/100\n",
            "282/282 - 26s - loss: 0.8409 - mae: 0.8409 - val_loss: 0.8395 - val_mae: 0.8395\n",
            "Epoch 2/100\n",
            "282/282 - 8s - loss: 0.8372 - mae: 0.8372 - val_loss: 0.8294 - val_mae: 0.8294\n",
            "Epoch 3/100\n",
            "282/282 - 8s - loss: 0.6831 - mae: 0.6831 - val_loss: 0.6056 - val_mae: 0.6056\n",
            "Epoch 4/100\n",
            "282/282 - 8s - loss: 0.5601 - mae: 0.5601 - val_loss: 0.5734 - val_mae: 0.5734\n",
            "Epoch 5/100\n",
            "282/282 - 8s - loss: 0.5494 - mae: 0.5494 - val_loss: 0.5649 - val_mae: 0.5649\n",
            "Epoch 6/100\n",
            "282/282 - 9s - loss: 0.5528 - mae: 0.5528 - val_loss: 0.5505 - val_mae: 0.5505\n",
            "Epoch 7/100\n",
            "282/282 - 9s - loss: 0.5459 - mae: 0.5459 - val_loss: 0.5500 - val_mae: 0.5500\n",
            "Epoch 8/100\n",
            "282/282 - 9s - loss: 0.5408 - mae: 0.5408 - val_loss: 0.5502 - val_mae: 0.5502\n",
            "Epoch 9/100\n",
            "282/282 - 8s - loss: 0.5354 - mae: 0.5354 - val_loss: 0.5496 - val_mae: 0.5496\n",
            "Epoch 10/100\n",
            "282/282 - 8s - loss: 0.5281 - mae: 0.5281 - val_loss: 0.5509 - val_mae: 0.5509\n",
            "Epoch 11/100\n",
            "282/282 - 8s - loss: 0.5123 - mae: 0.5123 - val_loss: 0.5253 - val_mae: 0.5253\n",
            "Epoch 12/100\n",
            "282/282 - 8s - loss: 0.4980 - mae: 0.4980 - val_loss: 0.5077 - val_mae: 0.5077\n",
            "Epoch 13/100\n",
            "282/282 - 9s - loss: 0.4713 - mae: 0.4713 - val_loss: 0.4942 - val_mae: 0.4942\n",
            "Epoch 14/100\n",
            "282/282 - 9s - loss: 0.4430 - mae: 0.4430 - val_loss: 0.4786 - val_mae: 0.4786\n",
            "Epoch 15/100\n",
            "282/282 - 8s - loss: 0.4182 - mae: 0.4182 - val_loss: 0.4756 - val_mae: 0.4756\n",
            "Epoch 16/100\n",
            "282/282 - 8s - loss: 0.4111 - mae: 0.4111 - val_loss: 0.4730 - val_mae: 0.4730\n",
            "Epoch 17/100\n",
            "282/282 - 8s - loss: 0.4067 - mae: 0.4067 - val_loss: 0.4746 - val_mae: 0.4746\n",
            "Epoch 18/100\n",
            "282/282 - 8s - loss: 0.4043 - mae: 0.4043 - val_loss: 0.4699 - val_mae: 0.4699\n",
            "Epoch 19/100\n",
            "282/282 - 8s - loss: 0.4010 - mae: 0.4010 - val_loss: 0.4681 - val_mae: 0.4681\n",
            "Epoch 20/100\n",
            "282/282 - 9s - loss: 0.3995 - mae: 0.3995 - val_loss: 0.4611 - val_mae: 0.4611\n",
            "Epoch 21/100\n",
            "282/282 - 9s - loss: 0.3975 - mae: 0.3975 - val_loss: 0.4586 - val_mae: 0.4586\n",
            "Epoch 22/100\n",
            "282/282 - 8s - loss: 0.3951 - mae: 0.3951 - val_loss: 0.4541 - val_mae: 0.4541\n",
            "Epoch 23/100\n",
            "282/282 - 8s - loss: 0.3957 - mae: 0.3957 - val_loss: 0.4509 - val_mae: 0.4509\n",
            "Epoch 24/100\n",
            "282/282 - 8s - loss: 0.3929 - mae: 0.3929 - val_loss: 0.4539 - val_mae: 0.4539\n",
            "Epoch 25/100\n",
            "282/282 - 8s - loss: 0.3923 - mae: 0.3923 - val_loss: 0.4542 - val_mae: 0.4542\n",
            "Epoch 26/100\n",
            "282/282 - 9s - loss: 0.3919 - mae: 0.3919 - val_loss: 0.4433 - val_mae: 0.4433\n",
            "Epoch 27/100\n",
            "282/282 - 9s - loss: 0.3904 - mae: 0.3904 - val_loss: 0.4469 - val_mae: 0.4469\n",
            "Epoch 28/100\n",
            "282/282 - 9s - loss: 0.3889 - mae: 0.3889 - val_loss: 0.4431 - val_mae: 0.4431\n",
            "Epoch 29/100\n",
            "282/282 - 8s - loss: 0.3888 - mae: 0.3888 - val_loss: 0.4397 - val_mae: 0.4397\n",
            "Epoch 30/100\n",
            "282/282 - 8s - loss: 0.3871 - mae: 0.3871 - val_loss: 0.4379 - val_mae: 0.4379\n",
            "Epoch 31/100\n",
            "282/282 - 8s - loss: 0.3856 - mae: 0.3856 - val_loss: 0.4373 - val_mae: 0.4373\n",
            "Epoch 32/100\n",
            "282/282 - 8s - loss: 0.3851 - mae: 0.3851 - val_loss: 0.4385 - val_mae: 0.4385\n",
            "Epoch 33/100\n",
            "282/282 - 9s - loss: 0.3860 - mae: 0.3860 - val_loss: 0.4368 - val_mae: 0.4368\n",
            "Epoch 34/100\n",
            "282/282 - 9s - loss: 0.3839 - mae: 0.3839 - val_loss: 0.4370 - val_mae: 0.4370\n",
            "Epoch 35/100\n",
            "282/282 - 9s - loss: 0.3828 - mae: 0.3828 - val_loss: 0.4366 - val_mae: 0.4366\n",
            "Epoch 36/100\n",
            "282/282 - 8s - loss: 0.3818 - mae: 0.3818 - val_loss: 0.4335 - val_mae: 0.4335\n",
            "Epoch 37/100\n",
            "282/282 - 9s - loss: 0.3815 - mae: 0.3815 - val_loss: 0.4312 - val_mae: 0.4312\n",
            "Epoch 38/100\n",
            "282/282 - 9s - loss: 0.3805 - mae: 0.3805 - val_loss: 0.4294 - val_mae: 0.4294\n",
            "Epoch 39/100\n",
            "282/282 - 8s - loss: 0.3797 - mae: 0.3797 - val_loss: 0.4304 - val_mae: 0.4304\n",
            "Epoch 40/100\n",
            "282/282 - 8s - loss: 0.3786 - mae: 0.3786 - val_loss: 0.4298 - val_mae: 0.4298\n",
            "Epoch 41/100\n",
            "282/282 - 8s - loss: 0.3774 - mae: 0.3774 - val_loss: 0.4262 - val_mae: 0.4262\n",
            "Epoch 42/100\n",
            "282/282 - 8s - loss: 0.3763 - mae: 0.3763 - val_loss: 0.4276 - val_mae: 0.4276\n",
            "Epoch 43/100\n",
            "282/282 - 9s - loss: 0.3757 - mae: 0.3757 - val_loss: 0.4252 - val_mae: 0.4252\n",
            "Epoch 44/100\n",
            "282/282 - 9s - loss: 0.3751 - mae: 0.3751 - val_loss: 0.4252 - val_mae: 0.4252\n",
            "Epoch 45/100\n",
            "282/282 - 8s - loss: 0.3744 - mae: 0.3744 - val_loss: 0.4240 - val_mae: 0.4240\n",
            "Epoch 46/100\n",
            "282/282 - 8s - loss: 0.3732 - mae: 0.3732 - val_loss: 0.4206 - val_mae: 0.4206\n",
            "Epoch 47/100\n",
            "282/282 - 8s - loss: 0.3724 - mae: 0.3724 - val_loss: 0.4208 - val_mae: 0.4208\n",
            "Epoch 48/100\n",
            "282/282 - 8s - loss: 0.3713 - mae: 0.3713 - val_loss: 0.4135 - val_mae: 0.4135\n",
            "Epoch 49/100\n",
            "282/282 - 9s - loss: 0.3706 - mae: 0.3706 - val_loss: 0.4135 - val_mae: 0.4135\n",
            "Epoch 50/100\n",
            "282/282 - 9s - loss: 0.3696 - mae: 0.3696 - val_loss: 0.4152 - val_mae: 0.4152\n",
            "Epoch 51/100\n",
            "282/282 - 9s - loss: 0.3692 - mae: 0.3692 - val_loss: 0.4153 - val_mae: 0.4153\n",
            "Epoch 52/100\n",
            "282/282 - 8s - loss: 0.3680 - mae: 0.3680 - val_loss: 0.4126 - val_mae: 0.4126\n",
            "Epoch 53/100\n",
            "282/282 - 8s - loss: 0.3663 - mae: 0.3663 - val_loss: 0.4155 - val_mae: 0.4155\n",
            "Epoch 54/100\n",
            "282/282 - 8s - loss: 0.3658 - mae: 0.3658 - val_loss: 0.4112 - val_mae: 0.4112\n",
            "Epoch 55/100\n",
            "282/282 - 8s - loss: 0.3643 - mae: 0.3643 - val_loss: 0.4113 - val_mae: 0.4113\n",
            "Epoch 56/100\n",
            "282/282 - 9s - loss: 0.3635 - mae: 0.3635 - val_loss: 0.4142 - val_mae: 0.4142\n",
            "Epoch 57/100\n",
            "282/282 - 9s - loss: 0.3627 - mae: 0.3627 - val_loss: 0.4116 - val_mae: 0.4116\n",
            "Epoch 58/100\n",
            "282/282 - 9s - loss: 0.3612 - mae: 0.3612 - val_loss: 0.4077 - val_mae: 0.4077\n",
            "Epoch 59/100\n",
            "282/282 - 8s - loss: 0.3605 - mae: 0.3605 - val_loss: 0.4068 - val_mae: 0.4068\n",
            "Epoch 60/100\n",
            "282/282 - 8s - loss: 0.3590 - mae: 0.3590 - val_loss: 0.4086 - val_mae: 0.4086\n",
            "Epoch 61/100\n",
            "282/282 - 8s - loss: 0.3581 - mae: 0.3581 - val_loss: 0.4094 - val_mae: 0.4094\n",
            "Epoch 62/100\n",
            "282/282 - 8s - loss: 0.3571 - mae: 0.3571 - val_loss: 0.4088 - val_mae: 0.4088\n",
            "Epoch 63/100\n",
            "282/282 - 9s - loss: 0.3560 - mae: 0.3560 - val_loss: 0.4082 - val_mae: 0.4082\n",
            "Epoch 64/100\n",
            "282/282 - 9s - loss: 0.3549 - mae: 0.3549 - val_loss: 0.4074 - val_mae: 0.4074\n"
          ],
          "name": "stdout"
        }
      ]
    },
    {
      "cell_type": "markdown",
      "metadata": {
        "id": "L4RaUS9lCflg"
      },
      "source": [
        "**Build a wavenet**"
      ]
    },
    {
      "cell_type": "code",
      "metadata": {
        "colab": {
          "base_uri": "https://localhost:8080/"
        },
        "id": "kqzrXELiB6eE",
        "outputId": "315215f1-d597-4889-b29e-2eae870e02a4"
      },
      "source": [
        "# Build a wavenet\n",
        "wavenet = keras.models.Sequential()\n",
        "wavenet.add(keras.layers.Lambda(lambda x: tf.expand_dims(x, axis=-1),\n",
        "                      input_shape=[None]))\n",
        "for rate in (1, 2, 4, 8) * 2:\n",
        "    wavenet.add(keras.layers.Conv1D(filters=200, kernel_size=2, padding=\"causal\",\n",
        "                                  activation=\"relu\", dilation_rate=rate))\n",
        "wavenet.add(keras.layers.Conv1D(filters=1, kernel_size=1))\n",
        "optimizer = tf.keras.optimizers.Adam(learning_rate=learning_rate)\n",
        "wavenet.compile(loss=tf.keras.losses.MAE, optimizer=optimizer, metrics=[\"mae\"])\n",
        "wavenet.summary()"
      ],
      "execution_count": null,
      "outputs": [
        {
          "output_type": "stream",
          "text": [
            "Model: \"sequential_17\"\n",
            "_________________________________________________________________\n",
            "Layer (type)                 Output Shape              Param #   \n",
            "=================================================================\n",
            "lambda_19 (Lambda)           (None, None, 1)           0         \n",
            "_________________________________________________________________\n",
            "conv1d_1 (Conv1D)            (None, None, 200)         600       \n",
            "_________________________________________________________________\n",
            "conv1d_2 (Conv1D)            (None, None, 200)         80200     \n",
            "_________________________________________________________________\n",
            "conv1d_3 (Conv1D)            (None, None, 200)         80200     \n",
            "_________________________________________________________________\n",
            "conv1d_4 (Conv1D)            (None, None, 200)         80200     \n",
            "_________________________________________________________________\n",
            "conv1d_5 (Conv1D)            (None, None, 200)         80200     \n",
            "_________________________________________________________________\n",
            "conv1d_6 (Conv1D)            (None, None, 200)         80200     \n",
            "_________________________________________________________________\n",
            "conv1d_7 (Conv1D)            (None, None, 200)         80200     \n",
            "_________________________________________________________________\n",
            "conv1d_8 (Conv1D)            (None, None, 200)         80200     \n",
            "_________________________________________________________________\n",
            "conv1d_9 (Conv1D)            (None, None, 1)           201       \n",
            "=================================================================\n",
            "Total params: 562,201\n",
            "Trainable params: 562,201\n",
            "Non-trainable params: 0\n",
            "_________________________________________________________________\n"
          ],
          "name": "stdout"
        }
      ]
    },
    {
      "cell_type": "code",
      "metadata": {
        "colab": {
          "base_uri": "https://localhost:8080/"
        },
        "id": "MIDdlbGrF1NR",
        "outputId": "bd1b660e-b690-4383-bf00-c281c57224d5"
      },
      "source": [
        "# Train wavenet model\n",
        "history_wavenet = wavenet.fit(train_dataset,\n",
        "                         epochs=epochs,\n",
        "                         validation_data=val_dataset,\n",
        "                         callbacks=[callback],                      \n",
        "                         verbose=2)"
      ],
      "execution_count": null,
      "outputs": [
        {
          "output_type": "stream",
          "text": [
            "Epoch 1/100\n",
            "282/282 - 11s - loss: 0.8138 - mae: 0.8138 - val_loss: 0.7567 - val_mae: 0.7567\n",
            "Epoch 2/100\n",
            "282/282 - 7s - loss: 0.7424 - mae: 0.7424 - val_loss: 0.7511 - val_mae: 0.7511\n",
            "Epoch 3/100\n",
            "282/282 - 7s - loss: 0.7219 - mae: 0.7219 - val_loss: 0.7336 - val_mae: 0.7336\n",
            "Epoch 4/100\n",
            "282/282 - 7s - loss: 0.7122 - mae: 0.7122 - val_loss: 0.7334 - val_mae: 0.7334\n",
            "Epoch 5/100\n",
            "282/282 - 7s - loss: 0.7061 - mae: 0.7061 - val_loss: 0.7294 - val_mae: 0.7294\n",
            "Epoch 6/100\n",
            "282/282 - 7s - loss: 0.7017 - mae: 0.7017 - val_loss: 0.7273 - val_mae: 0.7273\n",
            "Epoch 7/100\n",
            "282/282 - 7s - loss: 0.6986 - mae: 0.6986 - val_loss: 0.7243 - val_mae: 0.7243\n",
            "Epoch 8/100\n",
            "282/282 - 7s - loss: 0.6961 - mae: 0.6961 - val_loss: 0.7220 - val_mae: 0.7220\n",
            "Epoch 9/100\n",
            "282/282 - 7s - loss: 0.6948 - mae: 0.6948 - val_loss: 0.7228 - val_mae: 0.7228\n",
            "Epoch 10/100\n",
            "282/282 - 7s - loss: 0.6931 - mae: 0.6931 - val_loss: 0.7206 - val_mae: 0.7206\n",
            "Epoch 11/100\n",
            "282/282 - 7s - loss: 0.6915 - mae: 0.6915 - val_loss: 0.7182 - val_mae: 0.7182\n",
            "Epoch 12/100\n",
            "282/282 - 7s - loss: 0.6907 - mae: 0.6907 - val_loss: 0.7187 - val_mae: 0.7187\n",
            "Epoch 13/100\n",
            "282/282 - 7s - loss: 0.6898 - mae: 0.6898 - val_loss: 0.7162 - val_mae: 0.7162\n",
            "Epoch 14/100\n",
            "282/282 - 7s - loss: 0.6892 - mae: 0.6892 - val_loss: 0.7154 - val_mae: 0.7154\n",
            "Epoch 15/100\n",
            "282/282 - 7s - loss: 0.6883 - mae: 0.6883 - val_loss: 0.7154 - val_mae: 0.7154\n",
            "Epoch 16/100\n",
            "282/282 - 7s - loss: 0.6877 - mae: 0.6877 - val_loss: 0.7144 - val_mae: 0.7144\n",
            "Epoch 17/100\n",
            "282/282 - 7s - loss: 0.6870 - mae: 0.6870 - val_loss: 0.7131 - val_mae: 0.7131\n",
            "Epoch 18/100\n",
            "282/282 - 7s - loss: 0.6863 - mae: 0.6863 - val_loss: 0.7129 - val_mae: 0.7129\n",
            "Epoch 19/100\n",
            "282/282 - 7s - loss: 0.6856 - mae: 0.6856 - val_loss: 0.7114 - val_mae: 0.7114\n",
            "Epoch 20/100\n",
            "282/282 - 7s - loss: 0.6849 - mae: 0.6849 - val_loss: 0.7107 - val_mae: 0.7107\n",
            "Epoch 21/100\n",
            "282/282 - 7s - loss: 0.6845 - mae: 0.6845 - val_loss: 0.7099 - val_mae: 0.7099\n",
            "Epoch 22/100\n",
            "282/282 - 7s - loss: 0.6840 - mae: 0.6840 - val_loss: 0.7104 - val_mae: 0.7104\n",
            "Epoch 23/100\n",
            "282/282 - 7s - loss: 0.6835 - mae: 0.6835 - val_loss: 0.7099 - val_mae: 0.7099\n",
            "Epoch 24/100\n",
            "282/282 - 7s - loss: 0.6828 - mae: 0.6828 - val_loss: 0.7091 - val_mae: 0.7091\n",
            "Epoch 25/100\n",
            "282/282 - 7s - loss: 0.6825 - mae: 0.6825 - val_loss: 0.7091 - val_mae: 0.7091\n",
            "Epoch 26/100\n",
            "282/282 - 7s - loss: 0.6823 - mae: 0.6823 - val_loss: 0.7070 - val_mae: 0.7070\n",
            "Epoch 27/100\n",
            "282/282 - 7s - loss: 0.6816 - mae: 0.6816 - val_loss: 0.7081 - val_mae: 0.7081\n",
            "Epoch 28/100\n",
            "282/282 - 7s - loss: 0.6813 - mae: 0.6813 - val_loss: 0.7081 - val_mae: 0.7081\n",
            "Epoch 29/100\n",
            "282/282 - 7s - loss: 0.6811 - mae: 0.6811 - val_loss: 0.7085 - val_mae: 0.7085\n",
            "Epoch 30/100\n",
            "282/282 - 7s - loss: 0.6804 - mae: 0.6804 - val_loss: 0.7080 - val_mae: 0.7080\n",
            "Epoch 31/100\n",
            "282/282 - 7s - loss: 0.6803 - mae: 0.6803 - val_loss: 0.7071 - val_mae: 0.7071\n"
          ],
          "name": "stdout"
        }
      ]
    },
    {
      "cell_type": "markdown",
      "metadata": {
        "id": "tpN731wv8aer"
      },
      "source": [
        "**Build a 3 layer GRU model with hyperparameters; window size = 168 and learning rate = 1e-4** "
      ]
    },
    {
      "cell_type": "code",
      "metadata": {
        "id": "rlk57zSy8EAC"
      },
      "source": [
        "# Build a gru model with 3 hidden layers; use hyperparameters window size =168 and learning rate = 1e-4 \n",
        "learning_rate = 1e-4\n",
        "gru6 = keras.models.Sequential([\n",
        "    keras.layers.Lambda(lambda x: tf.expand_dims(x, axis=-1),\n",
        "                      input_shape=[None]),\n",
        "    keras.layers.GRU(300, return_sequences=True),\n",
        "    keras.layers.GRU(200, return_sequences=True),\n",
        "    keras.layers.GRU(100, return_sequences=True),\n",
        "    keras.layers.Dense(1)])\n",
        "optimizer = tf.keras.optimizers.Adam(learning_rate=learning_rate)\n",
        "gru6.compile(loss=tf.keras.losses.MAE, optimizer=optimizer, metrics=[\"mae\"])"
      ],
      "execution_count": null,
      "outputs": []
    },
    {
      "cell_type": "code",
      "metadata": {
        "id": "YscnqtIcFpk2"
      },
      "source": [
        "learning_rate = 1e-4\n",
        "window_size = 168\n",
        "batch_size = 256\n",
        "shuffle_buffer = 256\n",
        "\n",
        "train_dataset1 = windowed_dataset(train_ds, window_size=window_size, batch_size=batch_size, shuffle_buffer=shuffle_buffer)\n",
        "val_dataset1 = windowed_dataset(val_ds, window_size=window_size, batch_size=batch_size, shuffle_buffer=shuffle_buffer)\n",
        "test_dataset1 = windowed_dataset_test(test_ds, window_size=window_size)"
      ],
      "execution_count": null,
      "outputs": []
    },
    {
      "cell_type": "code",
      "metadata": {
        "colab": {
          "base_uri": "https://localhost:8080/"
        },
        "id": "5P2cKrxmHusS",
        "outputId": "ad0934fa-5da3-4c19-b931-a0787f81a3d2"
      },
      "source": [
        "# Train the GRU model with 3 hidden layers, learning rate = 1e-4 and window size = 168\n",
        "epochs = 100\n",
        "callback = tf.keras.callbacks.EarlyStopping(monitor='val_mae', patience=5,restore_best_weights=True)\n",
        "history_gru6 = gru6.fit(train_dataset1,\n",
        "                         epochs=epochs,\n",
        "                         validation_data=val_dataset1,\n",
        "                         callbacks=[callback],                      \n",
        "                         verbose=2)"
      ],
      "execution_count": null,
      "outputs": [
        {
          "output_type": "stream",
          "text": [
            "Epoch 1/100\n",
            "141/141 - 15s - loss: 0.8435 - mae: 0.8435 - val_loss: 0.8547 - val_mae: 0.8547\n",
            "Epoch 2/100\n",
            "141/141 - 10s - loss: 0.8435 - mae: 0.8435 - val_loss: 0.8558 - val_mae: 0.8558\n",
            "Epoch 3/100\n",
            "141/141 - 11s - loss: 0.8420 - mae: 0.8420 - val_loss: 0.8571 - val_mae: 0.8571\n",
            "Epoch 4/100\n",
            "141/141 - 11s - loss: 0.8417 - mae: 0.8417 - val_loss: 0.8568 - val_mae: 0.8568\n",
            "Epoch 5/100\n",
            "141/141 - 10s - loss: 0.8413 - mae: 0.8413 - val_loss: 0.8564 - val_mae: 0.8564\n",
            "Epoch 6/100\n",
            "141/141 - 10s - loss: 0.8407 - mae: 0.8407 - val_loss: 0.8551 - val_mae: 0.8551\n"
          ],
          "name": "stdout"
        }
      ]
    },
    {
      "cell_type": "markdown",
      "metadata": {
        "id": "_IzL2WP3JEU-"
      },
      "source": [
        "**Build a 3 layer GRU model with hyperparameters; window size = 72 and learning rate = 1e-4**"
      ]
    },
    {
      "cell_type": "code",
      "metadata": {
        "id": "r0ljUSXvJOvR"
      },
      "source": [
        "# Build a gru model with 3 hidden layers; use hyperparameters window size = 72 and learning rate = 1e-4\n",
        "learning_rate = 1e-4\n",
        "gru7 = keras.models.Sequential([\n",
        "    keras.layers.Lambda(lambda x: tf.expand_dims(x, axis=-1),\n",
        "                      input_shape=[None]),\n",
        "    keras.layers.GRU(300, return_sequences=True),\n",
        "    keras.layers.GRU(200, return_sequences=True),\n",
        "    keras.layers.GRU(100, return_sequences=True),\n",
        "    keras.layers.Dense(1)])\n",
        "optimizer = tf.keras.optimizers.Adam(learning_rate=learning_rate)\n",
        "gru7.compile(loss=tf.keras.losses.MAE, optimizer=optimizer, metrics=[\"mae\"])"
      ],
      "execution_count": null,
      "outputs": []
    },
    {
      "cell_type": "code",
      "metadata": {
        "id": "o0h2cXQJKI0U"
      },
      "source": [
        "window_size = 72\n",
        "batch_size = 128\n",
        "shuffle_buffer = 128\n",
        "\n",
        "train_dataset2 = windowed_dataset(train_ds, window_size=window_size, batch_size=batch_size, shuffle_buffer=shuffle_buffer)\n",
        "val_dataset2 = windowed_dataset(val_ds, window_size=window_size, batch_size=batch_size, shuffle_buffer=shuffle_buffer)\n",
        "test_dataset2 = windowed_dataset_test(test_ds, window_size=window_size)"
      ],
      "execution_count": null,
      "outputs": []
    },
    {
      "cell_type": "code",
      "metadata": {
        "colab": {
          "base_uri": "https://localhost:8080/"
        },
        "id": "drBKxlGaKi7M",
        "outputId": "4f27d672-f6fd-402a-d584-a51c6cd72f41"
      },
      "source": [
        "# Train the GRU model with 3 hidden layers, learning rate = 1e-4 and window size = 72\n",
        "epochs = 100\n",
        "callback = tf.keras.callbacks.EarlyStopping(monitor='val_mae', patience=5,restore_best_weights=True)\n",
        "history_gru7 = gru7.fit(train_dataset2,\n",
        "                         epochs=epochs,\n",
        "                         validation_data=val_dataset2,\n",
        "                         callbacks=[callback],                      \n",
        "                         verbose=2)"
      ],
      "execution_count": null,
      "outputs": [
        {
          "output_type": "stream",
          "text": [
            "Epoch 1/100\n",
            "282/282 - 13s - loss: 0.8386 - mae: 0.8386 - val_loss: 0.8345 - val_mae: 0.8345\n",
            "Epoch 2/100\n",
            "282/282 - 8s - loss: 0.8350 - mae: 0.8350 - val_loss: 0.8324 - val_mae: 0.8324\n",
            "Epoch 3/100\n",
            "282/282 - 8s - loss: 0.8334 - mae: 0.8334 - val_loss: 0.8312 - val_mae: 0.8312\n",
            "Epoch 4/100\n",
            "282/282 - 9s - loss: 0.8321 - mae: 0.8321 - val_loss: 0.8304 - val_mae: 0.8304\n",
            "Epoch 5/100\n",
            "282/282 - 9s - loss: 0.8298 - mae: 0.8298 - val_loss: 0.8295 - val_mae: 0.8295\n",
            "Epoch 6/100\n",
            "282/282 - 8s - loss: 0.6783 - mae: 0.6783 - val_loss: 0.6930 - val_mae: 0.6930\n",
            "Epoch 7/100\n",
            "282/282 - 8s - loss: 0.5463 - mae: 0.5463 - val_loss: 0.7132 - val_mae: 0.7132\n",
            "Epoch 8/100\n",
            "282/282 - 9s - loss: 0.5023 - mae: 0.5023 - val_loss: 0.5392 - val_mae: 0.5392\n",
            "Epoch 9/100\n",
            "282/282 - 8s - loss: 0.4556 - mae: 0.4556 - val_loss: 0.4469 - val_mae: 0.4469\n",
            "Epoch 10/100\n",
            "282/282 - 8s - loss: 0.4293 - mae: 0.4293 - val_loss: 0.4463 - val_mae: 0.4463\n",
            "Epoch 11/100\n",
            "282/282 - 8s - loss: 0.4163 - mae: 0.4163 - val_loss: 0.4546 - val_mae: 0.4546\n",
            "Epoch 12/100\n",
            "282/282 - 8s - loss: 0.4097 - mae: 0.4097 - val_loss: 0.4672 - val_mae: 0.4672\n",
            "Epoch 13/100\n",
            "282/282 - 8s - loss: 0.4021 - mae: 0.4021 - val_loss: 0.4618 - val_mae: 0.4618\n",
            "Epoch 14/100\n",
            "282/282 - 9s - loss: 0.3976 - mae: 0.3976 - val_loss: 0.4691 - val_mae: 0.4691\n",
            "Epoch 15/100\n",
            "282/282 - 8s - loss: 0.3930 - mae: 0.3930 - val_loss: 0.4619 - val_mae: 0.4619\n"
          ],
          "name": "stdout"
        }
      ]
    },
    {
      "cell_type": "markdown",
      "metadata": {
        "id": "qfjaVM4ijfb8"
      },
      "source": [
        "**Build a GRU model with hperparameters; learning rate = 1e-4, window_size = 72 dropout = 0.4.**"
      ]
    },
    {
      "cell_type": "code",
      "metadata": {
        "id": "g_fSaJW7b5uF"
      },
      "source": [
        "#Build a GRU model with hperparameters; learning rate = 1e-4, window_size = 72 dropout = 0.4\n",
        "learning_rate = 1e-4\n",
        "gru8 = keras.models.Sequential([\n",
        "    keras.layers.Lambda(lambda x: tf.expand_dims(x, axis=-1),\n",
        "                      input_shape=[None]),\n",
        "    keras.layers.GRU(300, dropout=0.4,return_sequences=True),\n",
        "    keras.layers.GRU(200, dropout=0.4, return_sequences=True),\n",
        "    keras.layers.GRU(100, dropout=0.4, return_sequences=True),\n",
        "    keras.layers.Dense(1)])\n",
        "optimizer = tf.keras.optimizers.Adam(learning_rate=learning_rate)\n",
        "gru8.compile(loss=tf.keras.losses.MAE, optimizer=optimizer, metrics=[\"mae\"])"
      ],
      "execution_count": null,
      "outputs": []
    },
    {
      "cell_type": "code",
      "metadata": {
        "colab": {
          "base_uri": "https://localhost:8080/"
        },
        "id": "JjvSHOmNmBKm",
        "outputId": "b49eb4dd-51f8-4dd6-b3b8-ce580f205360"
      },
      "source": [
        "epochs = 100\n",
        "callback = tf.keras.callbacks.EarlyStopping(monitor='val_mae', patience=5,restore_best_weights=True)\n",
        "history_gru8 = gru8.fit(train_dataset2,\n",
        "                         epochs=epochs,\n",
        "                         validation_data=val_dataset2,\n",
        "                         callbacks=[callback],                      \n",
        "                         verbose=2)"
      ],
      "execution_count": null,
      "outputs": [
        {
          "output_type": "stream",
          "text": [
            "Epoch 1/100\n",
            "282/282 - 14s - loss: 0.8398 - mae: 0.8398 - val_loss: 0.8375 - val_mae: 0.8375\n",
            "Epoch 2/100\n",
            "282/282 - 8s - loss: 0.8378 - mae: 0.8378 - val_loss: 0.8363 - val_mae: 0.8363\n",
            "Epoch 3/100\n",
            "282/282 - 8s - loss: 0.8366 - mae: 0.8366 - val_loss: 0.8350 - val_mae: 0.8350\n",
            "Epoch 4/100\n",
            "282/282 - 8s - loss: 0.8360 - mae: 0.8360 - val_loss: 0.8326 - val_mae: 0.8326\n",
            "Epoch 5/100\n",
            "282/282 - 9s - loss: 0.8349 - mae: 0.8349 - val_loss: 0.8321 - val_mae: 0.8321\n",
            "Epoch 6/100\n",
            "282/282 - 9s - loss: 0.8345 - mae: 0.8345 - val_loss: 0.8308 - val_mae: 0.8308\n",
            "Epoch 7/100\n",
            "282/282 - 8s - loss: 0.8332 - mae: 0.8332 - val_loss: 0.8295 - val_mae: 0.8295\n",
            "Epoch 8/100\n",
            "282/282 - 8s - loss: 0.7445 - mae: 0.7445 - val_loss: 0.5937 - val_mae: 0.5937\n",
            "Epoch 9/100\n",
            "282/282 - 8s - loss: 0.5389 - mae: 0.5389 - val_loss: 0.5513 - val_mae: 0.5513\n",
            "Epoch 10/100\n",
            "282/282 - 8s - loss: 0.5013 - mae: 0.5013 - val_loss: 0.5336 - val_mae: 0.5336\n",
            "Epoch 11/100\n",
            "282/282 - 8s - loss: 0.4831 - mae: 0.4831 - val_loss: 0.4955 - val_mae: 0.4955\n",
            "Epoch 12/100\n",
            "282/282 - 9s - loss: 0.4740 - mae: 0.4740 - val_loss: 0.4812 - val_mae: 0.4812\n",
            "Epoch 13/100\n",
            "282/282 - 9s - loss: 0.4629 - mae: 0.4629 - val_loss: 0.4726 - val_mae: 0.4726\n",
            "Epoch 14/100\n",
            "282/282 - 8s - loss: 0.4561 - mae: 0.4561 - val_loss: 0.4729 - val_mae: 0.4729\n",
            "Epoch 15/100\n",
            "282/282 - 9s - loss: 0.4502 - mae: 0.4502 - val_loss: 0.4636 - val_mae: 0.4636\n",
            "Epoch 16/100\n",
            "282/282 - 9s - loss: 0.4473 - mae: 0.4473 - val_loss: 0.4627 - val_mae: 0.4627\n",
            "Epoch 17/100\n",
            "282/282 - 8s - loss: 0.4422 - mae: 0.4422 - val_loss: 0.4686 - val_mae: 0.4686\n",
            "Epoch 18/100\n",
            "282/282 - 8s - loss: 0.4379 - mae: 0.4379 - val_loss: 0.4629 - val_mae: 0.4629\n",
            "Epoch 19/100\n",
            "282/282 - 8s - loss: 0.4331 - mae: 0.4331 - val_loss: 0.4648 - val_mae: 0.4648\n",
            "Epoch 20/100\n",
            "282/282 - 8s - loss: 0.4332 - mae: 0.4332 - val_loss: 0.4530 - val_mae: 0.4530\n",
            "Epoch 21/100\n",
            "282/282 - 8s - loss: 0.4286 - mae: 0.4286 - val_loss: 0.4564 - val_mae: 0.4564\n",
            "Epoch 22/100\n",
            "282/282 - 9s - loss: 0.4264 - mae: 0.4264 - val_loss: 0.4522 - val_mae: 0.4522\n",
            "Epoch 23/100\n",
            "282/282 - 8s - loss: 0.4220 - mae: 0.4220 - val_loss: 0.4552 - val_mae: 0.4552\n",
            "Epoch 24/100\n",
            "282/282 - 8s - loss: 0.4178 - mae: 0.4178 - val_loss: 0.4435 - val_mae: 0.4435\n",
            "Epoch 25/100\n",
            "282/282 - 8s - loss: 0.4154 - mae: 0.4154 - val_loss: 0.4408 - val_mae: 0.4408\n",
            "Epoch 26/100\n",
            "282/282 - 8s - loss: 0.4140 - mae: 0.4140 - val_loss: 0.4402 - val_mae: 0.4402\n",
            "Epoch 27/100\n",
            "282/282 - 8s - loss: 0.4079 - mae: 0.4079 - val_loss: 0.4330 - val_mae: 0.4330\n",
            "Epoch 28/100\n",
            "282/282 - 8s - loss: 0.4076 - mae: 0.4076 - val_loss: 0.4394 - val_mae: 0.4394\n",
            "Epoch 29/100\n",
            "282/282 - 9s - loss: 0.4032 - mae: 0.4032 - val_loss: 0.4428 - val_mae: 0.4428\n",
            "Epoch 30/100\n",
            "282/282 - 9s - loss: 0.4001 - mae: 0.4001 - val_loss: 0.4447 - val_mae: 0.4447\n",
            "Epoch 31/100\n",
            "282/282 - 8s - loss: 0.3982 - mae: 0.3982 - val_loss: 0.4487 - val_mae: 0.4487\n",
            "Epoch 32/100\n",
            "282/282 - 8s - loss: 0.3953 - mae: 0.3953 - val_loss: 0.4570 - val_mae: 0.4570\n"
          ],
          "name": "stdout"
        }
      ]
    },
    {
      "cell_type": "markdown",
      "metadata": {
        "id": "lUXcpIieqae_"
      },
      "source": [
        "**GRU model 9;GRU model with 3 hidden layers, learning rate = 1e-4, window size = 48**"
      ]
    },
    {
      "cell_type": "code",
      "metadata": {
        "id": "5DA8hzhkqZVh"
      },
      "source": [
        "# Build a gru model with 3 hidden layers; use hyperparameters window size = 48 and learning rate = 1e-4\n",
        "learning_rate = 1e-4\n",
        "gru9 = keras.models.Sequential([\n",
        "    keras.layers.Lambda(lambda x: tf.expand_dims(x, axis=-1),\n",
        "                      input_shape=[None]),\n",
        "    keras.layers.GRU(300, return_sequences=True),\n",
        "    keras.layers.GRU(200, return_sequences=True),\n",
        "    keras.layers.GRU(100, return_sequences=True),\n",
        "    keras.layers.Dense(1)])\n",
        "optimizer = tf.keras.optimizers.Adam(learning_rate=learning_rate)\n",
        "gru9.compile(loss=tf.keras.losses.MAE, optimizer=optimizer, metrics=[\"mae\"])"
      ],
      "execution_count": null,
      "outputs": []
    },
    {
      "cell_type": "code",
      "metadata": {
        "id": "1839uPyxr1pq"
      },
      "source": [
        "window_size = 48\n",
        "batch_size = 128\n",
        "shuffle_buffer = 128\n",
        "\n",
        "train_dataset3 = windowed_dataset(train_ds, window_size=window_size, batch_size=batch_size, shuffle_buffer=shuffle_buffer)\n",
        "val_dataset3 = windowed_dataset(val_ds, window_size=window_size, batch_size=batch_size, shuffle_buffer=shuffle_buffer)\n",
        "test_dataset3 = windowed_dataset_test(test_ds, window_size=window_size)"
      ],
      "execution_count": null,
      "outputs": []
    },
    {
      "cell_type": "code",
      "metadata": {
        "colab": {
          "base_uri": "https://localhost:8080/"
        },
        "id": "kztr-mKArX6h",
        "outputId": "005279c3-4df5-4879-b2a5-4a13c233ce91"
      },
      "source": [
        "epochs = 100\n",
        "callback = tf.keras.callbacks.EarlyStopping(monitor='val_mae', patience=5,restore_best_weights=True)\n",
        "history_gru9 = gru9.fit(train_dataset3,\n",
        "                         epochs=epochs,\n",
        "                         validation_data=val_dataset3,\n",
        "                         callbacks=[callback],                      \n",
        "                         verbose=2)"
      ],
      "execution_count": null,
      "outputs": [
        {
          "output_type": "stream",
          "text": [
            "Epoch 1/100\n",
            "283/283 - 11s - loss: 0.8317 - mae: 0.8317 - val_loss: 0.8208 - val_mae: 0.8208\n",
            "Epoch 2/100\n",
            "283/283 - 6s - loss: 0.8181 - mae: 0.8181 - val_loss: 0.8151 - val_mae: 0.8151\n",
            "Epoch 3/100\n",
            "283/283 - 6s - loss: 0.8137 - mae: 0.8137 - val_loss: 0.8067 - val_mae: 0.8067\n",
            "Epoch 4/100\n",
            "283/283 - 6s - loss: 0.6916 - mae: 0.6916 - val_loss: 0.5594 - val_mae: 0.5594\n",
            "Epoch 5/100\n",
            "283/283 - 6s - loss: 0.4770 - mae: 0.4770 - val_loss: 0.4841 - val_mae: 0.4841\n",
            "Epoch 6/100\n",
            "283/283 - 7s - loss: 0.4290 - mae: 0.4290 - val_loss: 0.4576 - val_mae: 0.4576\n",
            "Epoch 7/100\n",
            "283/283 - 7s - loss: 0.4065 - mae: 0.4065 - val_loss: 0.4442 - val_mae: 0.4442\n",
            "Epoch 8/100\n",
            "283/283 - 7s - loss: 0.3936 - mae: 0.3936 - val_loss: 0.4259 - val_mae: 0.4259\n",
            "Epoch 9/100\n",
            "283/283 - 6s - loss: 0.3832 - mae: 0.3832 - val_loss: 0.4135 - val_mae: 0.4135\n",
            "Epoch 10/100\n",
            "283/283 - 6s - loss: 0.3752 - mae: 0.3752 - val_loss: 0.4136 - val_mae: 0.4136\n",
            "Epoch 11/100\n",
            "283/283 - 6s - loss: 0.3687 - mae: 0.3687 - val_loss: 0.4026 - val_mae: 0.4026\n",
            "Epoch 12/100\n",
            "283/283 - 6s - loss: 0.3659 - mae: 0.3659 - val_loss: 0.4006 - val_mae: 0.4006\n",
            "Epoch 13/100\n",
            "283/283 - 7s - loss: 0.3596 - mae: 0.3596 - val_loss: 0.3980 - val_mae: 0.3980\n",
            "Epoch 14/100\n",
            "283/283 - 7s - loss: 0.3557 - mae: 0.3557 - val_loss: 0.3929 - val_mae: 0.3929\n",
            "Epoch 15/100\n",
            "283/283 - 7s - loss: 0.3529 - mae: 0.3529 - val_loss: 0.3944 - val_mae: 0.3944\n",
            "Epoch 16/100\n",
            "283/283 - 6s - loss: 0.3488 - mae: 0.3488 - val_loss: 0.3880 - val_mae: 0.3880\n",
            "Epoch 17/100\n",
            "283/283 - 6s - loss: 0.3456 - mae: 0.3456 - val_loss: 0.3873 - val_mae: 0.3873\n",
            "Epoch 18/100\n",
            "283/283 - 6s - loss: 0.3437 - mae: 0.3437 - val_loss: 0.3828 - val_mae: 0.3828\n",
            "Epoch 19/100\n",
            "283/283 - 6s - loss: 0.3403 - mae: 0.3403 - val_loss: 0.3834 - val_mae: 0.3834\n",
            "Epoch 20/100\n",
            "283/283 - 7s - loss: 0.3386 - mae: 0.3386 - val_loss: 0.3763 - val_mae: 0.3763\n",
            "Epoch 21/100\n",
            "283/283 - 7s - loss: 0.3364 - mae: 0.3364 - val_loss: 0.3701 - val_mae: 0.3701\n",
            "Epoch 22/100\n",
            "283/283 - 7s - loss: 0.3358 - mae: 0.3358 - val_loss: 0.3724 - val_mae: 0.3724\n",
            "Epoch 23/100\n",
            "283/283 - 7s - loss: 0.3321 - mae: 0.3321 - val_loss: 0.3692 - val_mae: 0.3692\n",
            "Epoch 24/100\n",
            "283/283 - 7s - loss: 0.3305 - mae: 0.3305 - val_loss: 0.3641 - val_mae: 0.3641\n",
            "Epoch 25/100\n",
            "283/283 - 7s - loss: 0.3287 - mae: 0.3287 - val_loss: 0.3604 - val_mae: 0.3604\n",
            "Epoch 26/100\n",
            "283/283 - 6s - loss: 0.3274 - mae: 0.3274 - val_loss: 0.3646 - val_mae: 0.3646\n",
            "Epoch 27/100\n",
            "283/283 - 6s - loss: 0.3257 - mae: 0.3257 - val_loss: 0.3603 - val_mae: 0.3603\n",
            "Epoch 28/100\n",
            "283/283 - 6s - loss: 0.3239 - mae: 0.3239 - val_loss: 0.3586 - val_mae: 0.3586\n",
            "Epoch 29/100\n",
            "283/283 - 6s - loss: 0.3233 - mae: 0.3233 - val_loss: 0.3553 - val_mae: 0.3553\n",
            "Epoch 30/100\n",
            "283/283 - 7s - loss: 0.3220 - mae: 0.3220 - val_loss: 0.3595 - val_mae: 0.3595\n",
            "Epoch 31/100\n",
            "283/283 - 7s - loss: 0.3208 - mae: 0.3208 - val_loss: 0.3546 - val_mae: 0.3546\n",
            "Epoch 32/100\n",
            "283/283 - 7s - loss: 0.3193 - mae: 0.3193 - val_loss: 0.3589 - val_mae: 0.3589\n",
            "Epoch 33/100\n",
            "283/283 - 6s - loss: 0.3183 - mae: 0.3183 - val_loss: 0.3567 - val_mae: 0.3567\n",
            "Epoch 34/100\n",
            "283/283 - 6s - loss: 0.3173 - mae: 0.3173 - val_loss: 0.3606 - val_mae: 0.3606\n",
            "Epoch 35/100\n",
            "283/283 - 6s - loss: 0.3164 - mae: 0.3164 - val_loss: 0.3589 - val_mae: 0.3589\n",
            "Epoch 36/100\n",
            "283/283 - 6s - loss: 0.3147 - mae: 0.3147 - val_loss: 0.3581 - val_mae: 0.3581\n"
          ],
          "name": "stdout"
        }
      ]
    },
    {
      "cell_type": "code",
      "metadata": {
        "id": "tUB96fA3pvxw"
      },
      "source": [
        "gru9.save(\"gru9_model.h5\")"
      ],
      "execution_count": null,
      "outputs": []
    },
    {
      "cell_type": "code",
      "metadata": {
        "colab": {
          "base_uri": "https://localhost:8080/"
        },
        "id": "mYenrStyqCoY",
        "outputId": "e6b7ceb6-bfca-42ad-fa50-e5addbda8dfc"
      },
      "source": [
        "# gru9 test dataset loss \n",
        "gru9_test_loss = gru9.evaluate(test_dataset3, steps=35)\n",
        "print('GRU9 test MAE:', gru9_test_loss[1])"
      ],
      "execution_count": null,
      "outputs": [
        {
          "output_type": "stream",
          "text": [
            "35/35 [==============================] - 3s 9ms/step - loss: 0.7153 - mae: 0.7153\n",
            "GRU9 test MAE: 0.7153483033180237\n"
          ],
          "name": "stdout"
        }
      ]
    },
    {
      "cell_type": "markdown",
      "metadata": {
        "id": "_Jpzt_n7t2Ux"
      },
      "source": [
        "**GRU model 10;GRU model with 3 hidden layers, learning rate = 1e-4, window size = 24**"
      ]
    },
    {
      "cell_type": "code",
      "metadata": {
        "id": "iWfPvS9yt9Y8"
      },
      "source": [
        "learning_rate = 1e-4\n",
        "gru10 = keras.models.Sequential([\n",
        "    keras.layers.Lambda(lambda x: tf.expand_dims(x, axis=-1),\n",
        "                      input_shape=[None]),\n",
        "    keras.layers.GRU(300,return_sequences=True),\n",
        "    keras.layers.GRU(200,return_sequences=True),\n",
        "    keras.layers.GRU(100,return_sequences=True),\n",
        "    keras.layers.Dense(1)])\n",
        "optimizer = tf.keras.optimizers.Adam(learning_rate=learning_rate)\n",
        "gru10.compile(loss=tf.keras.losses.MAE, optimizer=optimizer, metrics=[\"mae\"])"
      ],
      "execution_count": null,
      "outputs": []
    },
    {
      "cell_type": "code",
      "metadata": {
        "id": "0hUH5FFYuGJi"
      },
      "source": [
        "window_size = 24\n",
        "batch_size = 128\n",
        "shuffle_buffer = 128\n",
        "\n",
        "train_dataset4 = windowed_dataset(train_ds, window_size=window_size, batch_size=batch_size, shuffle_buffer=shuffle_buffer)\n",
        "val_dataset4 = windowed_dataset(val_ds, window_size=window_size, batch_size=batch_size, shuffle_buffer=shuffle_buffer)\n",
        "test_dataset4 = windowed_dataset_test(test_ds, window_size=window_size)"
      ],
      "execution_count": null,
      "outputs": []
    },
    {
      "cell_type": "code",
      "metadata": {
        "colab": {
          "base_uri": "https://localhost:8080/"
        },
        "id": "F0sSIMkKuVUH",
        "outputId": "74bdc16b-794a-421c-8861-9ea869f828a7"
      },
      "source": [
        "epochs = 100\n",
        "callback = tf.keras.callbacks.EarlyStopping(monitor='val_mae', patience=5,restore_best_weights=True)\n",
        "history_gru10 = gru10.fit(train_dataset4,\n",
        "                         epochs=epochs,\n",
        "                         validation_data=val_dataset4,\n",
        "                         callbacks=[callback],                      \n",
        "                         verbose=2)"
      ],
      "execution_count": null,
      "outputs": [
        {
          "output_type": "stream",
          "text": [
            "Epoch 1/100\n",
            "283/283 - 11s - loss: 0.7808 - mae: 0.7808 - val_loss: 0.6610 - val_mae: 0.6610\n",
            "Epoch 2/100\n",
            "283/283 - 5s - loss: 0.5990 - mae: 0.5990 - val_loss: 0.5443 - val_mae: 0.5443\n",
            "Epoch 3/100\n",
            "283/283 - 5s - loss: 0.4304 - mae: 0.4304 - val_loss: 0.4086 - val_mae: 0.4086\n",
            "Epoch 4/100\n",
            "283/283 - 5s - loss: 0.3792 - mae: 0.3792 - val_loss: 0.4048 - val_mae: 0.4048\n",
            "Epoch 5/100\n",
            "283/283 - 5s - loss: 0.3705 - mae: 0.3705 - val_loss: 0.3854 - val_mae: 0.3854\n",
            "Epoch 6/100\n",
            "283/283 - 5s - loss: 0.3643 - mae: 0.3643 - val_loss: 0.3817 - val_mae: 0.3817\n",
            "Epoch 7/100\n",
            "283/283 - 5s - loss: 0.3584 - mae: 0.3584 - val_loss: 0.3748 - val_mae: 0.3748\n",
            "Epoch 8/100\n",
            "283/283 - 5s - loss: 0.3530 - mae: 0.3530 - val_loss: 0.3732 - val_mae: 0.3732\n",
            "Epoch 9/100\n",
            "283/283 - 5s - loss: 0.3468 - mae: 0.3468 - val_loss: 0.3659 - val_mae: 0.3659\n",
            "Epoch 10/100\n",
            "283/283 - 5s - loss: 0.3396 - mae: 0.3396 - val_loss: 0.3635 - val_mae: 0.3635\n",
            "Epoch 11/100\n",
            "283/283 - 5s - loss: 0.3328 - mae: 0.3328 - val_loss: 0.3567 - val_mae: 0.3567\n",
            "Epoch 12/100\n",
            "283/283 - 6s - loss: 0.3261 - mae: 0.3261 - val_loss: 0.3541 - val_mae: 0.3541\n",
            "Epoch 13/100\n",
            "283/283 - 5s - loss: 0.3215 - mae: 0.3215 - val_loss: 0.3507 - val_mae: 0.3507\n",
            "Epoch 14/100\n",
            "283/283 - 5s - loss: 0.3173 - mae: 0.3173 - val_loss: 0.3505 - val_mae: 0.3505\n",
            "Epoch 15/100\n",
            "283/283 - 5s - loss: 0.3140 - mae: 0.3140 - val_loss: 0.3459 - val_mae: 0.3459\n",
            "Epoch 16/100\n",
            "283/283 - 5s - loss: 0.3102 - mae: 0.3102 - val_loss: 0.3430 - val_mae: 0.3430\n",
            "Epoch 17/100\n",
            "283/283 - 5s - loss: 0.3075 - mae: 0.3075 - val_loss: 0.3419 - val_mae: 0.3419\n",
            "Epoch 18/100\n",
            "283/283 - 5s - loss: 0.3048 - mae: 0.3048 - val_loss: 0.3368 - val_mae: 0.3368\n",
            "Epoch 19/100\n",
            "283/283 - 5s - loss: 0.3014 - mae: 0.3014 - val_loss: 0.3350 - val_mae: 0.3350\n",
            "Epoch 20/100\n",
            "283/283 - 5s - loss: 0.2986 - mae: 0.2986 - val_loss: 0.3330 - val_mae: 0.3330\n",
            "Epoch 21/100\n",
            "283/283 - 5s - loss: 0.2966 - mae: 0.2966 - val_loss: 0.3296 - val_mae: 0.3296\n",
            "Epoch 22/100\n",
            "283/283 - 5s - loss: 0.2941 - mae: 0.2941 - val_loss: 0.3286 - val_mae: 0.3286\n",
            "Epoch 23/100\n",
            "283/283 - 5s - loss: 0.2921 - mae: 0.2921 - val_loss: 0.3230 - val_mae: 0.3230\n",
            "Epoch 24/100\n",
            "283/283 - 5s - loss: 0.2898 - mae: 0.2898 - val_loss: 0.3239 - val_mae: 0.3239\n",
            "Epoch 25/100\n",
            "283/283 - 5s - loss: 0.2883 - mae: 0.2883 - val_loss: 0.3214 - val_mae: 0.3214\n",
            "Epoch 26/100\n",
            "283/283 - 5s - loss: 0.2861 - mae: 0.2861 - val_loss: 0.3208 - val_mae: 0.3208\n",
            "Epoch 27/100\n",
            "283/283 - 5s - loss: 0.2851 - mae: 0.2851 - val_loss: 0.3179 - val_mae: 0.3179\n",
            "Epoch 28/100\n",
            "283/283 - 5s - loss: 0.2833 - mae: 0.2833 - val_loss: 0.3170 - val_mae: 0.3170\n",
            "Epoch 29/100\n",
            "283/283 - 5s - loss: 0.2818 - mae: 0.2818 - val_loss: 0.3148 - val_mae: 0.3148\n",
            "Epoch 30/100\n",
            "283/283 - 5s - loss: 0.2811 - mae: 0.2811 - val_loss: 0.3137 - val_mae: 0.3137\n",
            "Epoch 31/100\n",
            "283/283 - 5s - loss: 0.2799 - mae: 0.2799 - val_loss: 0.3122 - val_mae: 0.3122\n",
            "Epoch 32/100\n",
            "283/283 - 5s - loss: 0.2782 - mae: 0.2782 - val_loss: 0.3115 - val_mae: 0.3115\n",
            "Epoch 33/100\n",
            "283/283 - 5s - loss: 0.2776 - mae: 0.2776 - val_loss: 0.3086 - val_mae: 0.3086\n",
            "Epoch 34/100\n",
            "283/283 - 5s - loss: 0.2757 - mae: 0.2757 - val_loss: 0.3092 - val_mae: 0.3092\n",
            "Epoch 35/100\n",
            "283/283 - 5s - loss: 0.2757 - mae: 0.2757 - val_loss: 0.3059 - val_mae: 0.3059\n",
            "Epoch 36/100\n",
            "283/283 - 5s - loss: 0.2743 - mae: 0.2743 - val_loss: 0.3058 - val_mae: 0.3058\n",
            "Epoch 37/100\n",
            "283/283 - 5s - loss: 0.2733 - mae: 0.2733 - val_loss: 0.3070 - val_mae: 0.3070\n",
            "Epoch 38/100\n",
            "283/283 - 5s - loss: 0.2722 - mae: 0.2722 - val_loss: 0.3042 - val_mae: 0.3042\n",
            "Epoch 39/100\n",
            "283/283 - 5s - loss: 0.2718 - mae: 0.2718 - val_loss: 0.3044 - val_mae: 0.3044\n",
            "Epoch 40/100\n",
            "283/283 - 5s - loss: 0.2709 - mae: 0.2709 - val_loss: 0.3024 - val_mae: 0.3024\n",
            "Epoch 41/100\n",
            "283/283 - 5s - loss: 0.2704 - mae: 0.2704 - val_loss: 0.3021 - val_mae: 0.3021\n",
            "Epoch 42/100\n",
            "283/283 - 5s - loss: 0.2697 - mae: 0.2697 - val_loss: 0.3016 - val_mae: 0.3016\n",
            "Epoch 43/100\n",
            "283/283 - 5s - loss: 0.2689 - mae: 0.2689 - val_loss: 0.3003 - val_mae: 0.3003\n",
            "Epoch 44/100\n",
            "283/283 - 5s - loss: 0.2683 - mae: 0.2683 - val_loss: 0.2996 - val_mae: 0.2996\n",
            "Epoch 45/100\n",
            "283/283 - 5s - loss: 0.2673 - mae: 0.2673 - val_loss: 0.2981 - val_mae: 0.2981\n",
            "Epoch 46/100\n",
            "283/283 - 5s - loss: 0.2664 - mae: 0.2664 - val_loss: 0.2975 - val_mae: 0.2975\n",
            "Epoch 47/100\n",
            "283/283 - 5s - loss: 0.2661 - mae: 0.2661 - val_loss: 0.2967 - val_mae: 0.2967\n",
            "Epoch 48/100\n",
            "283/283 - 5s - loss: 0.2651 - mae: 0.2651 - val_loss: 0.2964 - val_mae: 0.2964\n",
            "Epoch 49/100\n",
            "283/283 - 5s - loss: 0.2644 - mae: 0.2644 - val_loss: 0.2955 - val_mae: 0.2955\n",
            "Epoch 50/100\n",
            "283/283 - 5s - loss: 0.2637 - mae: 0.2637 - val_loss: 0.2943 - val_mae: 0.2943\n",
            "Epoch 51/100\n",
            "283/283 - 5s - loss: 0.2633 - mae: 0.2633 - val_loss: 0.2937 - val_mae: 0.2937\n",
            "Epoch 52/100\n",
            "283/283 - 5s - loss: 0.2625 - mae: 0.2625 - val_loss: 0.2932 - val_mae: 0.2932\n",
            "Epoch 53/100\n",
            "283/283 - 5s - loss: 0.2625 - mae: 0.2625 - val_loss: 0.2919 - val_mae: 0.2919\n",
            "Epoch 54/100\n",
            "283/283 - 5s - loss: 0.2619 - mae: 0.2619 - val_loss: 0.2910 - val_mae: 0.2910\n",
            "Epoch 55/100\n",
            "283/283 - 5s - loss: 0.2610 - mae: 0.2610 - val_loss: 0.2914 - val_mae: 0.2914\n",
            "Epoch 56/100\n",
            "283/283 - 5s - loss: 0.2605 - mae: 0.2605 - val_loss: 0.2910 - val_mae: 0.2910\n",
            "Epoch 57/100\n",
            "283/283 - 5s - loss: 0.2597 - mae: 0.2597 - val_loss: 0.2893 - val_mae: 0.2893\n",
            "Epoch 58/100\n",
            "283/283 - 5s - loss: 0.2595 - mae: 0.2595 - val_loss: 0.2893 - val_mae: 0.2893\n",
            "Epoch 59/100\n",
            "283/283 - 6s - loss: 0.2592 - mae: 0.2592 - val_loss: 0.2892 - val_mae: 0.2892\n",
            "Epoch 60/100\n",
            "283/283 - 5s - loss: 0.2587 - mae: 0.2587 - val_loss: 0.2882 - val_mae: 0.2882\n",
            "Epoch 61/100\n",
            "283/283 - 5s - loss: 0.2579 - mae: 0.2579 - val_loss: 0.2882 - val_mae: 0.2882\n",
            "Epoch 62/100\n",
            "283/283 - 5s - loss: 0.2573 - mae: 0.2573 - val_loss: 0.2877 - val_mae: 0.2877\n",
            "Epoch 63/100\n",
            "283/283 - 5s - loss: 0.2573 - mae: 0.2573 - val_loss: 0.2873 - val_mae: 0.2873\n",
            "Epoch 64/100\n",
            "283/283 - 5s - loss: 0.2565 - mae: 0.2565 - val_loss: 0.2865 - val_mae: 0.2865\n",
            "Epoch 65/100\n",
            "283/283 - 5s - loss: 0.2560 - mae: 0.2560 - val_loss: 0.2862 - val_mae: 0.2862\n",
            "Epoch 66/100\n",
            "283/283 - 5s - loss: 0.2557 - mae: 0.2557 - val_loss: 0.2859 - val_mae: 0.2859\n",
            "Epoch 67/100\n",
            "283/283 - 5s - loss: 0.2551 - mae: 0.2551 - val_loss: 0.2856 - val_mae: 0.2856\n",
            "Epoch 68/100\n",
            "283/283 - 5s - loss: 0.2548 - mae: 0.2548 - val_loss: 0.2854 - val_mae: 0.2854\n",
            "Epoch 69/100\n",
            "283/283 - 5s - loss: 0.2546 - mae: 0.2546 - val_loss: 0.2848 - val_mae: 0.2848\n",
            "Epoch 70/100\n",
            "283/283 - 5s - loss: 0.2536 - mae: 0.2536 - val_loss: 0.2844 - val_mae: 0.2844\n",
            "Epoch 71/100\n",
            "283/283 - 5s - loss: 0.2536 - mae: 0.2536 - val_loss: 0.2842 - val_mae: 0.2842\n",
            "Epoch 72/100\n",
            "283/283 - 5s - loss: 0.2532 - mae: 0.2532 - val_loss: 0.2833 - val_mae: 0.2833\n",
            "Epoch 73/100\n",
            "283/283 - 5s - loss: 0.2526 - mae: 0.2526 - val_loss: 0.2836 - val_mae: 0.2836\n",
            "Epoch 74/100\n",
            "283/283 - 5s - loss: 0.2523 - mae: 0.2523 - val_loss: 0.2831 - val_mae: 0.2831\n",
            "Epoch 75/100\n",
            "283/283 - 5s - loss: 0.2519 - mae: 0.2519 - val_loss: 0.2819 - val_mae: 0.2819\n",
            "Epoch 76/100\n",
            "283/283 - 5s - loss: 0.2512 - mae: 0.2512 - val_loss: 0.2820 - val_mae: 0.2820\n",
            "Epoch 77/100\n",
            "283/283 - 5s - loss: 0.2512 - mae: 0.2512 - val_loss: 0.2815 - val_mae: 0.2815\n",
            "Epoch 78/100\n",
            "283/283 - 5s - loss: 0.2505 - mae: 0.2505 - val_loss: 0.2810 - val_mae: 0.2810\n",
            "Epoch 79/100\n",
            "283/283 - 5s - loss: 0.2502 - mae: 0.2502 - val_loss: 0.2809 - val_mae: 0.2809\n",
            "Epoch 80/100\n",
            "283/283 - 5s - loss: 0.2497 - mae: 0.2497 - val_loss: 0.2805 - val_mae: 0.2805\n",
            "Epoch 81/100\n",
            "283/283 - 5s - loss: 0.2493 - mae: 0.2493 - val_loss: 0.2807 - val_mae: 0.2807\n",
            "Epoch 82/100\n",
            "283/283 - 5s - loss: 0.2491 - mae: 0.2491 - val_loss: 0.2798 - val_mae: 0.2798\n",
            "Epoch 83/100\n",
            "283/283 - 5s - loss: 0.2487 - mae: 0.2487 - val_loss: 0.2799 - val_mae: 0.2799\n",
            "Epoch 84/100\n",
            "283/283 - 5s - loss: 0.2479 - mae: 0.2479 - val_loss: 0.2798 - val_mae: 0.2798\n",
            "Epoch 85/100\n",
            "283/283 - 5s - loss: 0.2477 - mae: 0.2477 - val_loss: 0.2793 - val_mae: 0.2793\n",
            "Epoch 86/100\n",
            "283/283 - 5s - loss: 0.2475 - mae: 0.2475 - val_loss: 0.2794 - val_mae: 0.2794\n",
            "Epoch 87/100\n",
            "283/283 - 5s - loss: 0.2470 - mae: 0.2470 - val_loss: 0.2781 - val_mae: 0.2781\n",
            "Epoch 88/100\n",
            "283/283 - 5s - loss: 0.2467 - mae: 0.2467 - val_loss: 0.2783 - val_mae: 0.2783\n",
            "Epoch 89/100\n",
            "283/283 - 5s - loss: 0.2462 - mae: 0.2462 - val_loss: 0.2776 - val_mae: 0.2776\n",
            "Epoch 90/100\n",
            "283/283 - 5s - loss: 0.2458 - mae: 0.2458 - val_loss: 0.2777 - val_mae: 0.2777\n",
            "Epoch 91/100\n",
            "283/283 - 5s - loss: 0.2458 - mae: 0.2458 - val_loss: 0.2768 - val_mae: 0.2768\n",
            "Epoch 92/100\n",
            "283/283 - 5s - loss: 0.2457 - mae: 0.2457 - val_loss: 0.2774 - val_mae: 0.2774\n",
            "Epoch 93/100\n",
            "283/283 - 5s - loss: 0.2450 - mae: 0.2450 - val_loss: 0.2776 - val_mae: 0.2776\n",
            "Epoch 94/100\n",
            "283/283 - 5s - loss: 0.2446 - mae: 0.2446 - val_loss: 0.2760 - val_mae: 0.2760\n",
            "Epoch 95/100\n",
            "283/283 - 5s - loss: 0.2444 - mae: 0.2444 - val_loss: 0.2752 - val_mae: 0.2752\n",
            "Epoch 96/100\n",
            "283/283 - 5s - loss: 0.2440 - mae: 0.2440 - val_loss: 0.2749 - val_mae: 0.2749\n",
            "Epoch 97/100\n",
            "283/283 - 5s - loss: 0.2437 - mae: 0.2437 - val_loss: 0.2752 - val_mae: 0.2752\n",
            "Epoch 98/100\n",
            "283/283 - 5s - loss: 0.2432 - mae: 0.2432 - val_loss: 0.2747 - val_mae: 0.2747\n",
            "Epoch 99/100\n",
            "283/283 - 5s - loss: 0.2434 - mae: 0.2434 - val_loss: 0.2755 - val_mae: 0.2755\n",
            "Epoch 100/100\n",
            "283/283 - 5s - loss: 0.2429 - mae: 0.2429 - val_loss: 0.2740 - val_mae: 0.2740\n"
          ],
          "name": "stdout"
        }
      ]
    },
    {
      "cell_type": "code",
      "metadata": {
        "id": "_EDU3V_S-rRa"
      },
      "source": [
        "gru10.save(\"gru10_model.h5\")"
      ],
      "execution_count": null,
      "outputs": []
    },
    {
      "cell_type": "code",
      "metadata": {
        "id": "aJVTYRnyCG32"
      },
      "source": [
        "#gru10 = keras.models.load_model(\"gru10_model.h5\")"
      ],
      "execution_count": null,
      "outputs": []
    },
    {
      "cell_type": "markdown",
      "metadata": {
        "id": "kUDclxTsqWm0"
      },
      "source": [
        "**Best model: GRU model 10 with 3 hidden layers; learning rate = 1e-4 and window size = 24**"
      ]
    },
    {
      "cell_type": "code",
      "metadata": {
        "colab": {
          "base_uri": "https://localhost:8080/",
          "height": 441
        },
        "id": "KZdjDBkmqTYZ",
        "outputId": "58a4f027-89e6-4c45-ab75-6cc1149ee7ad"
      },
      "source": [
        "# Plot the learning curves GRU model10 \n",
        "N = np.arange(0, len(history_gru10.history[\"mae\"]))\n",
        "plt.figure(figsize=(8, 6))\n",
        "plt.plot(N, history_gru10.history[\"mae\"],'b-' ,label=\"train_mae\")\n",
        "plt.plot(N, history_gru10.history[\"val_mae\"],'r-' ,label=\"val_mae\")\n",
        "plt.xlabel(\"Epochs\")\n",
        "plt.ylabel(\"MAE\")\n",
        "plt.title(\"Learning curves: MAE vs Epochs for GRU model10\")\n",
        "plt.legend()\n",
        "plt.savefig('/content/gdrive/My Drive/Colab Notebooks/3546 Deep Learning/Final Project/learning_curves_gru10.png')\n",
        "plt.show()"
      ],
      "execution_count": null,
      "outputs": [
        {
          "output_type": "display_data",
          "data": {
            "image/png": "[encoded data removed]",
            "text/plain": [
              "<Figure size 576x432 with 1 Axes>"
            ]
          },
          "metadata": {
            "tags": []
          }
        }
      ]
    },
    {
      "cell_type": "code",
      "metadata": {
        "colab": {
          "base_uri": "https://localhost:8080/"
        },
        "id": "7YxTMMO7w3pA",
        "outputId": "43cfc85d-e328-4509-bfd0-e05da6978a05"
      },
      "source": [
        "# gru10 test dataset loss \n",
        "gru10_test_loss = gru10.evaluate(test_dataset4, steps=35)\n",
        "print('GRU10 test MAE:', gru10_test_loss[1])"
      ],
      "execution_count": null,
      "outputs": [
        {
          "output_type": "stream",
          "text": [
            "35/35 [==============================] - 1s 6ms/step - loss: 0.3471 - mae: 0.3471\n",
            "GRU10 test MAE: 0.34707406163215637\n"
          ],
          "name": "stdout"
        }
      ]
    },
    {
      "cell_type": "code",
      "metadata": {
        "id": "R9oabjuZrUws"
      },
      "source": [
        "# Predict the test_dataset4 \n",
        "gru10_forecast = gru10.predict(test_dataset4)"
      ],
      "execution_count": null,
      "outputs": []
    },
    {
      "cell_type": "code",
      "metadata": {
        "id": "niMDCeyXr2N1"
      },
      "source": [
        "# predictions of test_data4\n",
        "gru10_forecast_test = gru10_forecast[:,0]"
      ],
      "execution_count": null,
      "outputs": []
    },
    {
      "cell_type": "code",
      "metadata": {
        "id": "P751jAyxsPd-"
      },
      "source": [
        "# Invserse transform forecast data\n",
        "gru10_forecast_inv = scaler.inverse_transform(gru10_forecast_test)"
      ],
      "execution_count": null,
      "outputs": []
    },
    {
      "cell_type": "code",
      "metadata": {
        "id": "CPBLXXWcsbJo"
      },
      "source": [
        "# Get the original test data less one window size of test data\n",
        "window_size =24\n",
        "test_data4 = scaler.inverse_transform(test_ds)\n",
        "actual_load4 = []\n",
        "for y in test_data4[:len(test_ds)-window_size]:\n",
        "    actual_load4.append(y)"
      ],
      "execution_count": null,
      "outputs": []
    },
    {
      "cell_type": "code",
      "metadata": {
        "colab": {
          "base_uri": "https://localhost:8080/"
        },
        "id": "OXap-Kdhs6cZ",
        "outputId": "8879208f-e727-498b-fbbf-cedb5a035fbd"
      },
      "source": [
        "# gru10 model error\n",
        "from sklearn.metrics import mean_absolute_error\n",
        "gru10_error = mean_absolute_error(np.array(actual_load4), gru10_forecast_inv.flatten())\n",
        "print('GRU10 MAE error:{} MWh'.format(gru10_error))"
      ],
      "execution_count": null,
      "outputs": [
        {
          "output_type": "stream",
          "text": [
            "GRU10 MAE error:17.94541266444739 MWh\n"
          ],
          "name": "stdout"
        }
      ]
    },
    {
      "cell_type": "code",
      "metadata": {
        "colab": {
          "base_uri": "https://localhost:8080/",
          "height": 324
        },
        "id": "o05hGrJsz8Mk",
        "outputId": "3830a6f6-79f1-4d6f-91ee-0fa6da4f32d3"
      },
      "source": [
        "# Plot the test load demand and forecast load demand for the first week of test data using GRU10\n",
        "test = scaler.inverse_transform(test_ds)\n",
        "gru10_forecast_inv_flatten =  gru10_forecast_inv.flatten()\n",
        "forecast_gru10_testdata = {'test_index':test_index[:168],'test_load':test[:168],'test_forecast':gru10_forecast_inv_flatten[:168]}\n",
        "forecast_gru10_testdata = pd.DataFrame(forecast_gru10_testdata)\n",
        "forecast_gru10_testdata.set_index('test_index', inplace=True)\n",
        "plt.style.use('fivethirtyeight')\n",
        "plt.figure(figsize = (16,4))\n",
        "plt.grid(False)\n",
        "forecast_gru10_testdata.test_load.plot(color=\"black\")\n",
        "forecast_gru10_testdata.test_forecast.plot(color=\"green\")\n",
        "plt.title(' Load and Forecast Demand for first week of test data using GRU Model10 with window size = 24')          \n",
        "plt.ylabel('MWh')\n",
        "plt.legend()\n",
        "plt.savefig('/content/gdrive/My Drive/Colab Notebooks/3546 Deep Learning/Final Project/load_forecast_gru10.png')"
      ],
      "execution_count": null,
      "outputs": [
        {
          "output_type": "display_data",
          "data": {
            "image/png": "[encoded data removed]",
            "text/plain": [
              "<Figure size 1152x288 with 1 Axes>"
            ]
          },
          "metadata": {
            "tags": []
          }
        }
      ]
    },
    {
      "cell_type": "code",
      "metadata": {
        "id": "YY3VVdoxPua-"
      },
      "source": [
        "# Generate 6 hrs predictions beyond the test data\n",
        "window_size = 24\n",
        "last_test_window = test_ds[-window_size:]\n",
        "for step_ahead in range(6):\n",
        "  Y_pred_last = gru10.predict(last_test_window[-window_size:])[-1].flatten()\n",
        "  last_test_window = np.append(last_test_window[-window_size:], Y_pred_last)\n",
        "\n",
        "Y_pred = last_test_window[-6:] "
      ],
      "execution_count": null,
      "outputs": []
    },
    {
      "cell_type": "code",
      "metadata": {
        "colab": {
          "base_uri": "https://localhost:8080/",
          "height": 441
        },
        "id": "A4m-g7urZp2L",
        "outputId": "c346ef38-3218-4f07-bc20-2fa29633ce7f"
      },
      "source": [
        "# Plot predictions beyond dataset\n",
        "x1_axis = np.linspace(0, 23, 24)\n",
        "x2_axis = np.linspace(23, 28, 6)\n",
        "last_24hr = test_ds[-window_size:]\n",
        "last_24hr = scaler.inverse_transform(last_24hr)\n",
        "Y_pred = scaler.inverse_transform(Y_pred)\n",
        "plt.figure(figsize = (8,6))\n",
        "plt.style.use('fivethirtyeight')\n",
        "plt.plot(x1_axis,last_24hr, \"k-\", label ='last 24 hrs of test data')\n",
        "plt.plot(x2_axis,Y_pred, \"g-\", label = '6 hrs of forecast')\n",
        "plt.title('6 hrs of forecast beyond dataset')\n",
        "plt.xlabel('time(hrs)')\n",
        "plt.ylabel('MWh')\n",
        "plt.legend()\n",
        "plt.savefig('/content/gdrive/My Drive/Colab Notebooks/3546 Deep Learning/Final Project/load_forecast_gru10_6hrs.png')"
      ],
      "execution_count": null,
      "outputs": [
        {
          "output_type": "display_data",
          "data": {
            "image/png": "[encoded data removed]",
            "text/plain": [
              "<Figure size 576x432 with 1 Axes>"
            ]
          },
          "metadata": {
            "tags": []
          }
        }
      ]
    }
  ]
}